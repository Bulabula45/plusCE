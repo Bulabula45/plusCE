{
 "cells": [
  {
   "cell_type": "code",
   "execution_count": 1,
   "metadata": {},
   "outputs": [],
   "source": [
    "import pandas as pd\n",
    "from Bio import SeqIO\n",
    "import numpy as np\n",
    "import pickle\n",
    "from Bio.Seq import Seq\n",
    "import matplotlib.pyplot as plt\n",
    "import seaborn as sns\n",
    "stops = set([\"TAA\",\"TAG\",\"TGA\"])\n",
    "starts = set([\"ATG\", \"TTG\", \"GTG\",\"CTG\"])"
   ]
  },
  {
   "cell_type": "code",
   "execution_count": 4,
   "metadata": {},
   "outputs": [
    {
     "name": "stdout",
     "output_type": "stream",
     "text": [
      "4818 5632\n",
      "4818 4818\n"
     ]
    }
   ],
   "source": [
    "df = pd.read_csv(\"TE2.tsv\", sep=\"\\t\",)\n",
    "colnames = df.columns[1:-1]\n",
    "tissue2expr = {}\n",
    "for i in range(len(df)):\n",
    "    row = df.iloc[i]\n",
    "    for name in colnames:\n",
    "        if name not in tissue2expr:\n",
    "            tissue2expr[name] = []\n",
    "        if row[name] != row[name]: continue\n",
    "        tissue2expr[name].append(row[name])\n",
    "tissue2thr = {}\n",
    "for k,v in tissue2expr.items():\n",
    "    tissue2thr[k] = (np.quantile(v, 0.5), np.quantile(v, 0.5))\n",
    "\n",
    "tissue2id = {}\n",
    "for i in range(len(df)):\n",
    "    row = df.iloc[i]\n",
    "    enst = row[\"ENSG\"]\n",
    "    for name in colnames:\n",
    "        highthr,lowthr = tissue2thr[name]\n",
    "        if row[name] != row[name]: continue\n",
    "        expr = row[name]\n",
    "        if name not in tissue2id:\n",
    "            tissue2id[name] = ([] , [])\n",
    "        if expr > highthr:\n",
    "            tissue2id[name][0].append(enst)\n",
    "        elif expr < lowthr:\n",
    "            tissue2id[name][1].append(enst)\n",
    "id2cnt = {}\n",
    "for k,v in tissue2id.items():\n",
    "    highs,lows = v\n",
    "    for high in highs:\n",
    "        if high not in id2cnt:\n",
    "            id2cnt[high] = [0,0]\n",
    "        id2cnt[high][0] += 1\n",
    "    for low in lows:\n",
    "        if low not in id2cnt:\n",
    "            id2cnt[low] = [0,0]\n",
    "        id2cnt[low][1] += 1\n",
    "idhighcnt = []; idlowcnt = []\n",
    "for k,v in id2cnt.items():\n",
    "    idhighcnt.append(v[0])\n",
    "    idlowcnt.append(v[1])\n",
    "highensg = []\n",
    "lowensg = []\n",
    "\n",
    "for k,v in id2cnt.items():\n",
    "    if (v[0] > 3 and v[1] > 3) and k.startswith(\"ENSG\"):\n",
    "        # print(k,v)\n",
    "        pass\n",
    "    if not k.startswith(\"ENSG\"): continue\n",
    "    if v[0] > 2 and v[1] < 2:\n",
    "        highensg.append(k)\n",
    "    elif v[1] > 2 and v[0] < 2:\n",
    "        lowensg.append(k)\n",
    "print(len(highensg), len(lowensg))\n",
    "SEED = 42\n",
    "np.random.seed(SEED)\n",
    "lowensg = np.random.choice(lowensg, len(highensg), replace=False)\n",
    "print(len(highensg), len(lowensg))\n"
   ]
  },
  {
   "cell_type": "code",
   "execution_count": 6,
   "metadata": {},
   "outputs": [],
   "source": [
    "phastEI = {}\n",
    "with open(\"phastConsElements30way.txt\") as f:\n",
    "    for q in f:\n",
    "        line = q.split(\"\\t\")\n",
    "        chr = line[1]\n",
    "        start = int(line[2]); end = int(line[3]); score = int(line[5])\n",
    "        if chr not in phastEI:\n",
    "            phastEI[chr] = [[],[],[]]\n",
    "        phastEI[chr][0].append(start); phastEI[chr][1].append(end); phastEI[chr][2].append(score)"
   ]
  },
  {
   "cell_type": "code",
   "execution_count": 8,
   "metadata": {},
   "outputs": [],
   "source": [
    "# for tisn in tissue2id.keys():\n",
    "if True:\n",
    "    # highensg = tissue2id[tisn][0]\n",
    "    # lowensg = tissue2id[tisn][1]\n",
    "    for idx,ensg_list in enumerate([highensg, lowensg]):\n",
    "        ensg2strand = {}\n",
    "        ensg25utr_region = {}\n",
    "        with open(\"five_prime_UTR.MANE.GRCh38.v1.3.ensembl_genomic.gff\") as f:\n",
    "            for q in f:\n",
    "                line = q.rstrip().split(\"\\t\")\n",
    "                ensg = line[8].split(\"gene_id=\")[1].split(\".\")[0]\n",
    "                start = int(line[3])\n",
    "                end = int(line[4])\n",
    "                chr = line[0]\n",
    "                strand = line[6]\n",
    "                ensg2strand[ensg] = strand\n",
    "                if ensg not in ensg_list: continue\n",
    "                if ensg not in ensg25utr_region:\n",
    "                    ensg25utr_region[ensg] = [chr]\n",
    "                ensg25utr_region[ensg].append((start,end))\n",
    "        ensg2phast = {}\n",
    "        for ensg, v in ensg25utr_region.items():\n",
    "            chr = v[0]\n",
    "            \n",
    "            ensg2phast[ensg] = {'chr':v[0], 'region':v[1:], 'phast':[]}\n",
    "            phast = []\n",
    "            tmp_region = sorted(v[1:], key=lambda x:x[0])\n",
    "            ensg2phast[ensg]['region'] = tmp_region\n",
    "            for start,end in tmp_region:\n",
    "                star_idx = np.searchsorted(phastEI[chr][0],start)\n",
    "                end_idx = np.searchsorted(phastEI[chr][1],end)\n",
    "                if phastEI[chr][1][star_idx-1] > start:\n",
    "                    if phastEI[chr][1][star_idx-1] < end:\n",
    "                        phast.append((start,phastEI[chr][1][star_idx-1], phastEI[chr][2][star_idx-1]))\n",
    "                    else:\n",
    "                        phast.append((start,end, phastEI[chr][2][star_idx-1]))\n",
    "                for i in range(star_idx,end_idx):\n",
    "                    phast.append((phastEI[chr][0][i],phastEI[chr][1][i],phastEI[chr][2][i]))\n",
    "                if end_idx >= star_idx and phastEI[chr][0][end_idx] < end:\n",
    "                    phast.append((phastEI[chr][0][end_idx],end, phastEI[chr][2][end_idx]))\n",
    "            ensg2phast[ensg]['phast'] = phast\n",
    "        # filename = f\"comparison/{tisn}_class5.bed\" if idx==0 else f\"comparison/{tisn}_class1.bed\"\n",
    "        filename = f\"all_class5.bed\" if idx==0 else f\"all_class1.bed\"\n",
    "        with open(filename, 'w') as w:\n",
    "            for ensg, v in ensg2phast.items():\n",
    "                chr = v['chr']\n",
    "                region = v['region']\n",
    "                phast = v['phast']\n",
    "                strand = ensg2strand[ensg]\n",
    "                for start,end,score in phast:\n",
    "                    # if score < 500: continue\n",
    "                    # if start > end - 100: continue\n",
    "                    w.write(f\"{chr}\\t{start}\\t{end}\\t{ensg}_{start}_{end}_{score}\\t0\\t{strand}\\n\")\n",
    "        "
   ]
  },
  {
   "cell_type": "code",
   "execution_count": null,
   "metadata": {},
   "outputs": [],
   "source": [
    "!bedtools getfasta -fi /data/RefData/hg38.fa -bed all_class5.bed -s -name > all_class5.raw.fa  \n",
    "!bedtools getfasta -fi /data/RefData/hg38.fa -bed all_class1.bed -s -name > all_class1.raw.fa  "
   ]
  },
  {
   "cell_type": "code",
   "execution_count": 10,
   "metadata": {},
   "outputs": [],
   "source": [
    "records = SeqIO.parse(\"all_class1.raw.fa\", \"fasta\")\n",
    "with open(\"all_class1.fa\", 'w') as w:\n",
    "    for record in records:\n",
    "        id  = str(record.id).split(\"::\")[0]\n",
    "        w.write(f\">{id}\\n{str(record.seq).upper()}\\n\")\n",
    "records = SeqIO.parse(\"all_class5.raw.fa\", \"fasta\")\n",
    "with open(\"all_class5.fa\", 'w') as w:\n",
    "    for record in records:\n",
    "        id  = str(record.id).split(\"::\")[0]\n",
    "        w.write(f\">{id}\\n{str(record.seq).upper()}\\n\")"
   ]
  },
  {
   "cell_type": "code",
   "execution_count": null,
   "metadata": {},
   "outputs": [],
   "source": [
    "!cd-hit -i all_class5.fa -o all_class5.filtered.fa -T 8  \n",
    "!cd-hit -i all_class1.fa -o all_class1.filtered.fa -T 8 "
   ]
  },
  {
   "cell_type": "markdown",
   "metadata": {},
   "source": [
    "!makeblastdb -in all_class5.filtered.fa -dbtype nucl -out DB/ac5\n",
    "!makeblastdb -in all_class1.filtered.fa -dbtype nucl -out DB/ac1"
   ]
  }
 ],
 "metadata": {
  "kernelspec": {
   "display_name": "base",
   "language": "python",
   "name": "python3"
  },
  "language_info": {
   "codemirror_mode": {
    "name": "ipython",
    "version": 3
   },
   "file_extension": ".py",
   "mimetype": "text/x-python",
   "name": "python",
   "nbconvert_exporter": "python",
   "pygments_lexer": "ipython3",
   "version": "3.9.12"
  }
 },
 "nbformat": 4,
 "nbformat_minor": 2
}
