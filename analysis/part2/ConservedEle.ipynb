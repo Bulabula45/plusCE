{
 "cells": [
  {
   "cell_type": "code",
   "execution_count": 1,
   "metadata": {},
   "outputs": [],
   "source": [
    "import pandas as pd\n",
    "from Bio import SeqIO\n",
    "import numpy as np\n",
    "import pickle\n",
    "import os\n",
    "import json\n",
    "import seaborn as sns\n",
    "path_real = \"/home/chensa/gb_data/data_for_analysis/part2/\"\n",
    "os.chdir(path_real)"
   ]
  },
  {
   "cell_type": "code",
   "execution_count": 2,
   "metadata": {},
   "outputs": [],
   "source": [
    "phastEI = {}\n",
    "with open(\"phastConsElements30way.txt\") as f:\n",
    "    for q in f:\n",
    "        line = q.split(\"\\t\")\n",
    "        chr = line[1]\n",
    "        start = int(line[2]); end = int(line[3]); score = int(line[5])\n",
    "        if chr not in phastEI:\n",
    "            phastEI[chr] = [[],[],[]]\n",
    "        phastEI[chr][0].append(start); phastEI[chr][1].append(end); phastEI[chr][2].append(score)\n"
   ]
  },
  {
   "cell_type": "code",
   "execution_count": 47,
   "metadata": {},
   "outputs": [
    {
     "name": "stdout",
     "output_type": "stream",
     "text": [
      "19293 28190 18904\n"
     ]
    }
   ],
   "source": [
    "id2all = pickle.load(open(\"/home/chensa/gb_data/data_for_analysis/mRNA/mRNA_id2all.pkl\",\"rb\"))\n",
    "enst_list = list(id2all.keys())\n",
    "df = pd.read_csv(\"../mRNA/Enst_Ensg_Symbol.txt\", sep=\"\\t\", header=None)\n",
    "enst2ensg = {}; ensg2enst = {}\n",
    "for enst,ensg in zip(df[0],df[1]):\n",
    "    enst2ensg[enst] = ensg\n",
    "    ensg2enst[ensg] = enst\n",
    "ensg_list = [enst2ensg[enst] for enst in enst_list]\n",
    "\n",
    "df = pd.read_csv('TE2.tsv', sep=\"\\t\")\n",
    "ensg_list_with_expr = df['ENSG'].tolist()\n",
    "\n",
    "keep_ensg = list(set(ensg_list) & set(ensg_list_with_expr))\n",
    "print(len(enst_list),len(ensg_list_with_expr),len(keep_ensg))"
   ]
  },
  {
   "cell_type": "code",
   "execution_count": 67,
   "metadata": {},
   "outputs": [
    {
     "name": "stdout",
     "output_type": "stream",
     "text": [
      "18634\n"
     ]
    }
   ],
   "source": [
    "ensg25utr_region = {}\n",
    "ensg2strand = {}\n",
    "with open(\"five_prime_UTR.MANE.GRCh38.v1.3.ensembl_genomic.gff\") as f:\n",
    "    for q in f:\n",
    "        line = q.split(\"\\t\")\n",
    "        ensg = line[8].split(\"gene_id=\")[1].split(\".\")[0]\n",
    "        start = int(line[3])\n",
    "        end = int(line[4])\n",
    "        chr = line[0]\n",
    "        strand = line[6]\n",
    "        if ensg not in keep_ensg: continue\n",
    "        ensg2strand[ensg] = strand\n",
    "        if ensg not in ensg25utr_region:\n",
    "            ensg25utr_region[ensg] = [chr,strand]\n",
    "        if start != end:\n",
    "            ensg25utr_region[ensg].append((start,end))\n",
    "print(len(ensg25utr_region))"
   ]
  },
  {
   "cell_type": "code",
   "execution_count": 72,
   "metadata": {},
   "outputs": [],
   "source": [
    "# ensg2phast = {}\n",
    "ensg2phast = pickle.load(open(\"ensg2phast.pkl\",\"rb\"))"
   ]
  },
  {
   "cell_type": "code",
   "execution_count": 81,
   "metadata": {},
   "outputs": [],
   "source": [
    "def regions_join(lst1, lst2):\n",
    "    if lst2[0] >= lst1[0]:\n",
    "        if lst2[0] >= lst1[1]:\n",
    "            return None\n",
    "        elif lst2[1] <= lst1[1]:\n",
    "            return lst2\n",
    "        else:\n",
    "            return [lst2[0],lst1[1]]\n",
    "    else:\n",
    "        if lst2[1] <= lst1[0]:\n",
    "            return None\n",
    "        elif lst2[1] <= lst1[1]:\n",
    "            return [lst1[0],lst2[1]]\n",
    "        else:\n",
    "            return lst1\n",
    "\n",
    "for ensg, v in ensg25utr_region.items():\n",
    "    # if ensg in ensg2phast: continue\n",
    "    if ensg != 'ENSG00000071564': continue\n",
    "    chr = v[0]\n",
    "    strand = v[1]\n",
    "    regions = sorted(v[2:], key=lambda x:x[0])\n",
    "    phastStarts = phastEI[chr][0]; phastEnds = phastEI[chr][1]; phastScores = phastEI[chr][2]\n",
    "\n",
    "    if strand == \"+\":\n",
    "        phast = []\n",
    "        shift = 0\n",
    "        for start, end in regions:\n",
    "            tmp_phast = []\n",
    "            start_idx = np.searchsorted(phastStarts, start+0.5)\n",
    "            end_idx = np.searchsorted(phastEnds, end-0.5)\n",
    "            if start_idx>0:start_idx -= 1\n",
    "            if end_idx==len(phastStarts):end_idx -= 1\n",
    "            for idx in range(start_idx, end_idx+1):\n",
    "                lst = regions_join([start,end],[phastStarts[idx],phastEnds[idx]])\n",
    "                if lst is None: continue\n",
    "                lst[0] -= start; lst[1] -= start\n",
    "                lst[0] += shift; lst[1] += shift\n",
    "                lst.append(phastScores[idx])\n",
    "                tmp_phast.append(lst)\n",
    "            shift += end - start + 1\n",
    "        phast = [sublist for sublist in tmp_phast]\n",
    "        phast = sorted(phast, key=lambda x:x[0])\n",
    "        ensg2phast[ensg] = phast\n",
    "    \n",
    "    elif strand == \"-\":\n",
    "        phast = []\n",
    "        shift = 0\n",
    "        for start, end in regions[:1]:\n",
    "            tmp_phast = []\n",
    "            start_idx = np.searchsorted(phastStarts, start+0.5)\n",
    "            end_idx = np.searchsorted(phastEnds, end-0.5)\n",
    "            if start_idx>0:start_idx -= 1\n",
    "            if end_idx==len(phastStarts):end_idx -= 1\n",
    "            for idx in range(start_idx, end_idx+1):\n",
    "                lst = regions_join([start,end],[phastStarts[idx],phastEnds[idx]])\n",
    "                # print(idx)\n",
    "                # print([phastStarts[idx],phastEnds[idx]])\n",
    "                # print(lst)\n",
    "                if lst is None: continue\n",
    "                tmp_var = lst[0]; lst[0] = end - lst[1]; lst[1] = end - tmp_var\n",
    "                lst[0] += shift; lst[1] += shift\n",
    "                lst.append(phastScores[idx])\n",
    "                tmp_phast.append(lst)\n",
    "            shift += end - start + 1\n",
    "        phast = [sublist for sublist in tmp_phast]\n",
    "        phast = sorted(phast, key=lambda x:x[0])\n",
    "        ensg2phast[ensg] = phast"
   ]
  },
  {
   "cell_type": "code",
   "execution_count": 69,
   "metadata": {},
   "outputs": [
    {
     "data": {
      "text/plain": [
       "(['chr1', '-', (16352255, 16352480), (16315419, 16315435)],\n",
       " ['chr1', '+', (2391841, 2391958), (2395784, 2395790)],\n",
       " ['chr3', '+', (53494611, 53495166), (53494611, 53495166)])"
      ]
     },
     "execution_count": 69,
     "metadata": {},
     "output_type": "execute_result"
    }
   ],
   "source": [
    "ensg25utr_region['ENSG00000037637'], ensg25utr_region['ENSG00000157916'],ensg25utr_region['ENSG00000157388']"
   ]
  },
  {
   "cell_type": "code",
   "execution_count": 77,
   "metadata": {},
   "outputs": [],
   "source": [
    "pickle.dump(ensg2phast, open(\"ensg2phast.pkl\",\"wb\"))"
   ]
  },
  {
   "cell_type": "code",
   "execution_count": null,
   "metadata": {},
   "outputs": [],
   "source": []
  },
  {
   "cell_type": "code",
   "execution_count": 48,
   "metadata": {},
   "outputs": [
    {
     "name": "stderr",
     "output_type": "stream",
     "text": [
      "/home/chensa/miniconda3/lib/python3.9/site-packages/numpy/core/fromnumeric.py:3474: RuntimeWarning: Mean of empty slice.\n",
      "  return _methods._mean(a, axis=axis, dtype=dtype,\n",
      "/home/chensa/miniconda3/lib/python3.9/site-packages/numpy/core/_methods.py:189: RuntimeWarning: invalid value encountered in double_scalars\n",
      "  ret = ret.dtype.type(ret / rcount)\n"
     ]
    },
    {
     "name": "stdout",
     "output_type": "stream",
     "text": [
      "3663\n"
     ]
    }
   ],
   "source": [
    "df = pd.read_csv(\"TE2.tsv\", sep=\"\\t\",)\n",
    "long_list = []; long_lens = []\n",
    "name2expr = {}\n",
    "for row in df.iterrows():\n",
    "    ensg = row[1][0]\n",
    "    if ensg not in keep_ensg:continue\n",
    "    enst = ensg2enst[ensg]\n",
    "    info = id2all[enst]\n",
    "    if info['start'] < 300: continue\n",
    "    tpms = np.array([float(x) for x in row[1][1:]])\n",
    "    tpms = np.mean([_ for _ in tpms if _ == _])\n",
    "    if tpms != tpms: continue\n",
    "    name2expr[ensg] = tpms\n",
    "    long_list.append(ensg);long_lens.append(info['start'])\n",
    "print(len(long_list))"
   ]
  },
  {
   "cell_type": "code",
   "execution_count": 49,
   "metadata": {},
   "outputs": [
    {
     "data": {
      "text/plain": [
       "(array([34,  9, 31, ..., 16, 39,  3]),\n",
       " array([ 300.  ,  303.24,  308.  ,  311.  ,  316.  ,  320.  ,  325.  ,\n",
       "         330.  ,  334.  ,  339.  ,  345.  ,  350.  ,  354.  ,  360.  ,\n",
       "         366.  ,  373.  ,  379.84,  385.  ,  391.  ,  399.  ,  406.  ,\n",
       "         413.  ,  421.  ,  428.  ,  436.  ,  444.  ,  452.  ,  459.  ,\n",
       "         468.72,  478.  ,  487.  ,  500.44,  514.  ,  524.92,  539.  ,\n",
       "         552.  ,  565.  ,  585.  ,  606.  ,  623.  ,  642.  ,  668.  ,\n",
       "         695.  ,  728.  ,  767.  ,  809.  ,  872.  ,  959.  , 1092.52,\n",
       "        1287.52, 3561.  ]))"
      ]
     },
     "execution_count": 49,
     "metadata": {},
     "output_type": "execute_result"
    }
   ],
   "source": [
    "labels = pd.qcut(long_lens, q=50, labels=False)\n",
    "\n",
    "bins = np.percentile(long_lens, np.linspace(0, 100, 50 + 1))\n",
    "labels, bins"
   ]
  },
  {
   "cell_type": "code",
   "execution_count": 50,
   "metadata": {},
   "outputs": [],
   "source": [
    "bins_ensg = [[] for _ in range(50)]\n",
    "for ensg, utrlen in zip(long_list, long_lens):\n",
    "    idx = np.searchsorted(bins, utrlen)\n",
    "    bins_ensg[idx-1].append(ensg)"
   ]
  },
  {
   "cell_type": "code",
   "execution_count": 51,
   "metadata": {},
   "outputs": [
    {
     "data": {
      "text/plain": [
       "(745, 745)"
      ]
     },
     "execution_count": 51,
     "metadata": {},
     "output_type": "execute_result"
    }
   ],
   "source": [
    "highensg = []; lowensg = []\n",
    "for i in range(50):\n",
    "    ensg_bin = bins_ensg[i]\n",
    "    exprs = [name2expr[ensg] for ensg in ensg_bin]\n",
    "    highthr,lowthr = np.percentile(exprs, [80,20])\n",
    "    highensg += [ensg for ensg in ensg_bin if name2expr[ensg] > highthr]\n",
    "    lowensg += [ensg for ensg in ensg_bin if name2expr[ensg] < lowthr]\n",
    "len(highensg), len(lowensg)"
   ]
  },
  {
   "cell_type": "code",
   "execution_count": 52,
   "metadata": {},
   "outputs": [
    {
     "data": {
      "text/plain": [
       "3663"
      ]
     },
     "execution_count": 52,
     "metadata": {},
     "output_type": "execute_result"
    }
   ],
   "source": [
    "len(name2expr)"
   ]
  },
  {
   "cell_type": "code",
   "execution_count": 82,
   "metadata": {},
   "outputs": [],
   "source": [
    "low2phast = {k:{'phast':v,'utr_len':0} for k,v in ensg2phast.items() if k in lowensg}\n",
    "high2phast = {k:{'phast':v,'utr_len':0} for k,v in ensg2phast.items() if k in highensg}\n",
    "low_len = {}\n",
    "for k,v in low2phast.items():\n",
    "    utr_len = id2all[ensg2enst[k]]['start']\n",
    "    low2phast[k]['utr_len'] = utr_len\n",
    "    low_len[k] = utr_len\n",
    "high_len = {}\n",
    "for k,v in high2phast.items():\n",
    "    utr_len = id2all[ensg2enst[k]]['start']\n",
    "    high2phast[k]['utr_len'] = utr_len\n",
    "    high_len[k] = utr_len\n",
    "# low_len按照utr长度排序得到keys顺序\n",
    "sorted_keys = sorted(low_len, key=lambda x:low_len[x])\n",
    "new_low2phast = []; new_low_len = []\n",
    "new_low2phast_names = []\n",
    "for k in sorted_keys:\n",
    "    new_low2phast.append(low2phast[k])\n",
    "    new_low_len.append(low_len[k])\n",
    "    new_low2phast_names.append(k)\n",
    "sorted_keys = sorted(high_len, key=lambda x:high_len[x])\n",
    "new_high2phast = []; new_high_len = []\n",
    "new_high2phast_names = []\n",
    "for k in sorted_keys:\n",
    "    new_high2phast.append(high2phast[k])\n",
    "    new_high2phast_names.append(k)\n",
    "    new_high_len.append(high_len[k])"
   ]
  },
  {
   "cell_type": "code",
   "execution_count": 83,
   "metadata": {},
   "outputs": [
    {
     "data": {
      "text/plain": [
       "({'phast': [[0, 27, 339], [54, 373, 600], [380, 555, 619]], 'utr_len': 556},\n",
       " [],\n",
       " {'rna': 'GAAGCCGGCGTGCGGCGCGGCGCGGCGGGCGCGGAGCGAGCGGGCGGGCGAGCGCCTCCGTCCCCGGATGTGAGCTCCGGCTGCCCGCGGTCCCGAGCCAGCGGCGGCGCGGGCGGCGGCGGCGGGCACCGGGCACCGCGGCGGGCGGGCAGACGGGCGGGCATGGGGGGAGCGCCGAGCGGCCCCGGCGGCCGGGCCGGCATCACCGCGGCGTCTCTCCGCTAGAGGAGGGGACAAGCCAGTTCTCCTTTGCAGCAAAAAATTACATGTATATATTATTAAGATAATATATACATTGGATTTTATTTTTTTAAAAAGTTTATTTTGCTCCATTTTTGAAAAAGAGAGAGCTTGGGTGGCGAGCGGTTTTTTTTTTAAATCAATTATCCTTATTTTCTGTTATTTGTCCCCGTCCCTCCCCACCCCCCTGCTGAAGCGAGAATAAGGGCAGGGACCGCGGCTCCTACCTCTTGGTGATCCCCTTCCCCATTCCGCCCCCGCCTCAACGCCCAGCACAGTGCCCTGCACACAGTAGTCGCTCAATAAATGTTCGTGGATGATGATGATGATGATGATGAAAAAAATGCAGCATCAACGGCAGCAGCAAGCGGACCACGCGAACGAGGCAAACTATGCAAGAGGCACCAGACTTCCTCTTTCTGGTGAAGGACCAACTTCTCAGCCGAATAGCTCCAAGCAAACTGTCCTGTCTTGGCAAGCTGCAATCGATGCTGCTAGACAGGCCAAGGCTGCCCAAACTATGAGCACCTCTGCACCCCCACCTGTAGGATCTCTCTCCCAAAGAAAACGTCAGCAATACGCCAAGAGCAAAAAACAGGGTAACTCGTCCAACAGCCGACCTGCCCGCGCCCTTTTCTGTTTATCACTCAATAACCCCATCCGAAGAGCCTGCATTAGTATAGTGGAATGGAAACCATTTGACATATTTATATTATTGGCTATTTTTGCCAATTGTGTGGCCTTAGCTATTTACATCCCATTCCCTGAAGATGATTCTAATTCAACAAATCATAACTTGGAAAAAGTAGAATATGCCTTCCTGATTATTTTTACAGTCGAGACATTTTTGAAGATTATAGCGTATGGATTATTGCTACATCCTAATGCTTATGTTAGGAATGGATGGAATTTACTGGATTTTGTTATAGTAATAGTAGGATTGTTTAGTGTAATTTTGGAACAATTAACCAAAGAAACAGAAGGCGGGAACCACTCAAGCGGCAAATCTGGAGGCTTTGATGTCAAAGCCCTCCGTGCCTTTCGAGTGTTGCGACCACTTCGACTAGTGTCAGGAGTGCCCAGTTTACAAGTTGTCCTGAACTCCATTATAAAAGCCATGGTTCCCCTCCTTCACATAGCCCTTTTGGTATTATTTGTAATCATAATCTATGCTATTATAGGATTGGAACTTTTTATTGGAAAAATGCACAAAACATGTTTTTTTGCTGACTCAGATATCGTAGCTGAAGAGGACCCAGCTCCATGTGCGTTCTCAGGGAATGGACGCCAGTGTACTGCCAATGGCACGGAATGTAGGAGTGGCTGGGTTGGCCCGAACGGAGGCATCACCAACTTTGATAACTTTGCCTTTGCCATGCTTACTGTGTTTCAGTGCATCACCATGGAGGGCTGGACAGATGTGCTCTACTGGATGAATGATGCTATGGGATTTGAATTGCCCTGGGTGTATTTTGTCAGTCTCGTCATCTTTGGGTCATTTTTCGTACTAAATCTTGTACTTGGTGTATTGAGCGGAGAATTCTCAAAGGAAAGAGAGAAGGCAAAAGCACGGGGAGATTTCCAGAAGCTCCGGGAGAAGCAGCAGCTGGAGGAGGATCTAAAGGGCTACTTGGATTGGATCACCCAAGCTGAGGACATCGATCCGGAGAATGAGGAAGAAGGAGGAGAGGAAGGCAAACGAAATACTAGCATGCCCACCAGCGAGACTGAGTCTGTGAACACAGAGAACGTCAGCGGTGAAGGCGAGAACCGAGGCTGCTGTGGAAGTCTCTGTCAAGCCATCTCAAAATCCAAACTCAGCCGACGCTGGCGTCGCTGGAACCGATTCAATCGCAGAAGATGTAGGGCCGCCGTGAAGTCTGTCACGTTTTACTGGCTGGTTATCGTCCTGGTGTTTCTGAACACCTTAACCATTTCCTCTGAGCACTACAATCAGCCAGATTGGTTGACACAGATTCAAGATATTGCCAACAAAGTCCTCTTGGCTCTGTTCACCTGCGAGATGCTGGTAAAAATGTACAGCTTGGGCCTCCAAGCATATTTCGTCTCTCTTTTCAACCGGTTTGATTGCTTCGTGGTGTGTGGTGGAATCACTGAGACGATCTTGGTGGAACTGGAAATCATGTCTCCCCTGGGGATCTCTGTGTTTCGGTGTGTGCGCCTCTTAAGAATCTTCAAAGTGACCAGGCACTGGACTTCCCTGAGCAACTTAGTGGCATCCTTATTAAACTCCATGAAGTCCATCGCTTCGCTGTTGCTTCTGCTTTTTCTCTTCATTATCATCTTTTCCTTGCTTGGGATGCAGCTGTTTGGCGGCAAGTTTAATTTTGATGAAACGCAAACCAAGCGGAGCACCTTTGACAATTTCCCTCAAGCACTTCTCACAGTGTTCCAGATCCTGACAGGCGAAGACTGGAATGCTGTGATGTACGATGGCATCATGGCTTACGGGGGCCCATCCTCTTCAGGAATGATCGTCTGCATCTACTTCATCATCCTCTTCATTTGTGGTAACTATATTCTACTGAATGTCTTCTTGGCCATCGCTGTAGACAATTTGGCTGATGCTGAAAGTCTGAACACTGCTCAGAAAGAAGAAGCGGAAGAAAAGGAGAGGAAAAAGATTGCCAGAAAAGAGAGCCTAGAAAATAAAAAGAACAACAAACCAGAAGTCAACCAGATAGCCAACAGTGACAACAAGGTTACAATTGATGACTATAGAGAAGAGGATGAAGACAAGGACCCCTATCCGCCTTGCGATGTGCCAGTAGGGGAAGAGGAAGAGGAAGAGGAGGAGGATGAACCTGAGGTTCCTGCCGGACCCCGTCCTCGAAGGATCTCGGAGTTGAACATGAAGGAAAAAATTGCCCCCATCCCTGAAGGGAGCGCTTTCTTCATTCTTAGCAAGACCAACCCGATCCGCGTAGGCTGCCACAAGCTCATCAACCACCACATCTTCACCAACCTCATCCTTGTCTTCATCATGCTGAGCAGCGCTGCCCTGGCCGCAGAGGACCCCATCCGCAGCCACTCCTTCCGGAACACGATACTGGGTTACTTTGACTATGCCTTCACAGCCATCTTTACTGTTGAGATCCTGTTGAAGATGACAACTTTTGGAGCTTTCCTCCACAAAGGGGCCTTCTGCAGGAACTACTTCAATTTGCTGGATATGCTGGTGGTTGGGGTGTCTCTGGTGTCATTTGGGATTCAATCCAGTGCCATCTCCGTTGTGAAGATTCTGAGGGTCTTAAGGGTCCTGCGTCCCCTCAGGGCCATCAACAGAGCAAAAGGACTTAAGCACGTGGTCCAGTGCGTCTTCGTGGCCATCCGGACCATCGGCAACATCATGATCGTCACCACCCTCCTGCAGTTCATGTTTGCCTGTATCGGGGTCCAGTTGTTCAAGGGGAAGTTCTATCGCTGTACGGATGAAGCCAAAAGTAACCCTGAAGAATGCAGGGGACTTTTCATCCTCTACAAGGATGGGGATGTTGACAGTCCTGTGGTCCGTGAACGGATCTGGCAAAACAGTGATTTCAACTTCGACAACGTCCTCTCTGCTATGATGGCGCTCTTCACAGTCTCCACGTTTGAGGGCTGGCCTGCGTTGCTGTATAAAGCCATCGACTCGAATGGAGAGAACATCGGCCCAATCTACAACCACCGCGTGGAGATCTCCATCTTCTTCATCATCTACATCATCATTGTAGCTTTCTTCATGATGAACATCTTTGTGGGCTTTGTCATCGTTACATTTCAGGAACAAGGAGAAAAAGAGTATAAGAACTGTGAGCTGGACAAAAATCAGCGTCAGTGTGTTGAATACGCCTTGAAAGCACGTCCCTTGCGGAGATACATCCCCAAAAACCCCTACCAGTACAAGTTCTGGTACGTGGTGAACTCTTCGCCTTTCGAATACATGATGTTTGTCCTCATCATGCTCAACACACTCTGCTTGGCCATGCAGCACTACGAGCAGTCCAAGATGTTCAATGATGCCATGGACATTCTGAACATGGTCTTCACCGGGGTGTTCACCGTCGAGATGGTTTTGAAAGTCATCGCATTTAAGCCTAAGGGGTATTTTAGTGACGCCTGGAACACGTTTGACTCCCTCATCGTAATCGGCAGCATTATAGACGTGGCCCTCAGCGAAGCAGACCCAACTGAAAGTGAAAATGTCCCTGTCCCAACTGCTACACCTGGGAACTCTGAAGAGAGCAATAGAATCTCCATCACCTTTTTCCGTCTTTTCCGAGTGATGCGATTGGTGAAGCTTCTCAGCAGGGGGGAAGGCATCCGGACATTGCTGTGGACTTTTATTAAGTCCTTTCAGGCGCTCCCGTATGTGGCCCTCCTCATAGCCATGCTGTTCTTCATCTATGCGGTCATTGGCATGCAGATGTTTGGGAAAGTTGCCATGAGAGATAACAACCAGATCAATAGGAACAATAACTTCCAGACGTTTCCCCAGGCGGTGCTGCTGCTCTTCAGGTGTGCAACAGGTGAGGCCTGGCAGGAGATCATGCTGGCCTGTCTCCCAGGGAAGCTCTGTGACCCTGAGTCAGATTACAACCCCGGGGAGGAGTATACATGTGGGAGCAACTTTGCCATTGTCTATTTCATCAGTTTTTACATGCTCTGTGCATTTCTGATCATCAATCTGTTTGTGGCTGTCATCATGGATAATTTCGACTATCTGACCCGGGACTGGTCTATTTTGGGGCCTCACCATTTAGATGAATTCAAAAGAATATGGTCAGAATATGACCCTGAGGCAAAGGGAAGGATAAAACACCTTGATGTGGTCACTCTGCTTCGACGCATCCAGCCTCCCCTGGGGTTTGGGAAGTTATGTCCACACAGGGTAGCGTGCAAGAGATTAGTTGCCATGAACATGCCTCTCAACAGTGACGGGACAGTCATGTTTAATGCAACCCTGTTTGCTTTGGTTCGAACGGCTCTTAAGATCAAGACCGAAGGGAACCTGGAGCAAGCTAATGAAGAACTTCGGGCTGTGATAAAGAAAATTTGGAAGAAAACCAGCATGAAATTACTTGACCAAGTTGTCCCTCCAGCTGGTGATGATGAGGTAACCGTGGGGAAGTTCTATGCCACTTTCCTGATACAGGACTACTTTAGGAAATTCAAGAAACGGAAAGAACAAGGACTGGTGGGAAAGTACCCTGCGAAGAACACCACAATTGCCCTACAGGCGGGATTAAGGACACTGCATGACATTGGGCCAGAAATCCGGCGTGCTATATCGTGTGATTTGCAAGATGACGAGCCTGAGGAAACAAAACGAGAAGAAGAAGATGATGTGTTCAAAAGAAATGGTGCCCTGCTTGGAAACCATGTCAATCATGTTAATAGTGATAGGAGAGATTCCCTTCAGCAGACCAATACCACCCACCGTCCCCTGCATGTCCAAAGGCCTTCAATTCCACCTGCAAGTGATACTGAGAAACCGCTGTTTCCTCCAGCAGGAAATTCGGTGTGTCATAACCATCATAACCATAATTCCATAGGAAAGCAAGTTCCCACCTCAACAAATGCCAATCTCAATAATGCCAATATGTCCAAAGCTGCCCATGGAAAGCGGCCCAGCATTGGGAACCTTGAGCATGTGTCTGAAAATGGGCATCATTCTTCCCACAAGCATGACCGGGAGCCTCAGAGAAGGTCCAGTGTGAAAAGAACCCGCTATTATGAAACTTACATTAGGTCCGACTCAGGAGATGAACAGCTCCCAACTATTTGCCGGGAAGACCCAGAGATACATGGCTATTTCAGGGACCCCCACTGCTTGGGGGAGCAGGAGTATTTCAGTAGTGAGGAATGCTACGAGGATGACAGCTCGCCCACCTGGAGCAGGCAAAACTATGGCTACTACAGCAGATACCCAGGCAGAAACATCGACTCTGAGAGGCCCCGAGGCTACCATCATCCCCAAGGATTCTTGGAGGACGATGACTCGCCCGTTTGCTATGATTCACGGAGATCTCCAAGGAGACGCCTACTACCTCCCACCCCAGCATCCCACCGGAGATCCTCCTTCAACTTTGAGTGCCTGCGCCGGCAGAGCAGCCAGGAAGAGGTCCCGTCGTCTCCCATCTTCCCCCATCGCACGGCCCTGCCTCTGCATCTAATGCAGCAACAGATCATGGCAGTTGCCGGCCTAGATTCAAGTAAAGCCCAGAAGTACTCACCGAGTCACTCGACCCGGTCGTGGGCCACCCCTCCAGCAACCCCTCCCTACCGGGACTGGACACCGTGCTACACCCCCCTGATCCAAGTGGAGCAGTCAGAGGCCCTGGACCAGGTGAACGGCAGCCTGCCGTCCCTGCACCGCAGCTCCTGGTACACAGACGAGCCCGACATCTCCTACCGGACTTTCACACCAGCCAGCCTGACTGTCCCCAGCAGCTTCCGGAACAAAAACAGCGACAAGCAGAGGAGTGCGGACAGCTTGGTGGAGGCAGTCCTGATATCCGAAGGCTTGGGACGCTATGCAAGGGACCCAAAATTTGTGTCAGCAACAAAACACGAAATCGCTGATGCCTGTGACCTCACCATCGACGAGATGGAGAGTGCAGCCAGCACCCTGCTTAATGGGAACGTGCGTCCCCGAGCCAACGGGGATGTGGGCCCCCTCTCACACCGGCAGGACTATGAGCTACAGGACTTTGGTCCTGGCTACAGCGACGAAGAGCCAGACCCTGGGAGGGATGAGGAGGACCTGGCGGATGAAATGATATGCATCACCACCTTGTAGCCCCCAGCGAGGGGCAGACTGGCTCTGGCCTCAGGTGGGGCGCAGGAGAGCCAGGGGAAAAGTGCCTCATAGTTAGGAAAGTTTAGGCACTAGTTGGGAGTAATATTCAATTAATTAGACTTTTGTATAAGAGATGTCATGCCTCAAGAAAGCCATAAACCTGGTAGGAACAGGTCCCAAGCGGTTGAGCCTGGCAGAGTACCATGCGCTCGGCCCCAGCTGCAGGAAACAGCAGGCCCCGCCCTCTCACAGAGGATGGGTGAGGAGGCCAGACCTGCCCTGCCCCATTGTCCAGATGGGCACTGCTGTGGAGTCTGCTTCTCCCATGTACCAGGGCACCAGGCCCACCCAACTGAAGGCATGGCGGCGGGGTGCAGGGGAAAGTTAAAGGTGATGACGATCATCACACCTGTGTCGTTACCTCAGCCATCGGTCTAGCATATCAGTCACTGGGCCCAACATATCCATTTTTAAACCCTTTCCCCCAAATACACTGCGTCCTGGTTCCTGTTTAGCTGTTCTGAAATACGGTGTGTAAGTAAGTCAGAACCCAGCTACCAGTGATTATTGCGAGGGCAATGGGACCTCATAAATAAGGTTTTCTGTGATGTGACGCCAGTTTACATAAGAGAATATCACTCCGATGGTCGGTTTCTGACTGTCACGCTAAGGGCAACTGTAAACTGGAATAATAATGCACTCGCAACCAGGTAAACTTAGATACACTAGTTTGTTTAAAATTATAGATTTACTGTACATGACTTGTAATATACTATAATTTGTATTTGTAAAGAGATGGTCTATATTTTGTAATTACTGTATTGTATTTGAACTGCAGCAATATCCATGGGTCCTAATAATTGTAGTTCCCCACTAAAATCTAGAAATTATTAGTATTTTTACTCGGGCTATCCAGAAGTAGAAGAAATAGAGCCAATTCTCATTTATTCAGCGAAAATCCTCTGGGGTTAAAATTTTAAGTTTGAAAGAACTTGACACTACAGAAATTTTTCTAAAATATTTTGAGTCACTATAAACCTATCATCTTTCCACAAGATATACCAGATGACTATTTGCAGTCTTTTCTTTGGGCAAGAGTTCCATGATTTTGATACTGTACCTTTGGATCCACCATGGGTTGCAACTGTCTTTGGTTTTGTTTGTTTGACTTGAACCACCCTCTGGTAAGTAAGTAAGTGAATTACAGAGCAGGTCCAGCTGGCTGCTCTGCCCCTTGGGTATCCATAGTTACGGTTTTCTCTGTGGCCCACCCAGGGTGTTTTTTGCATCGCTGGTGCAGAAATGCATAGGTGGATGAGATATAGCTGCTCTTGTCCTCTGGGGACTGGTGGTGCTGCTTAAGAAATAAGGGGTGCTGGGGACAGAGGAGCAACGTGGTGATCTATAGGATTGGAGTGTCGGGGTCTGTACAAATCGTATTGTTGCCTTTTACAAAACTGCTGTACTGTATGTTCTCTTTGAGGGCTTTTATATGCAATTGAATGAGGGCTGAAGTTTTCATTAGAATGCACTCACACTCTGACTGTACGTCCTGATGAAAACCCACTTTTGGATAATTAGAACCGTCAAGGCTTCATTTTCTGTCAACAGAATTAGGCCGACTGTCAGGTTACCTTGGCAGGGATTCCCTGCAATCAAAAAGATAGATGATAGGTAGCAATTTTGGTCCAAAATTTTTAATAGTATACAGACAACCTGTTAATTTTTTTTTTTTTTTTTTTTTTTGTAAATAACAAACACCACTTTGTTATGAAGACCTTACAAACCTCTTCTTAAGACATTCTTACTCTGATCCAGGCAAAAACACTTCAAGGTTTGTAAATGACTCTTTCCTGACATAAATCCTTTTTTATTAAAATGCAAAATGTTCTTCAGAATAAAACTGTGTAATAATTTTTATACTTGGGAGTGCTCCTTGCACAGAGCTGTCATTTGCCAGTGAGAGCCTCCGACAGGGCAGGTACTGTGCCAGGGCAGCTCTGAAATTATGGATATTCTTATCCTCCTGGTTCCTTCGGTGCCAATGGTAACCTAATACCAGCCGCAGGGAGCGCCATTTCTCCTAAAGGGCTACACCACTGTCAACATTATCCTGGACTCTGTGTCTCTCTCTGTTGGGTCTTGTGGCATCACATCAGGCCAAAATTGCCAGACCAGGACCCTAAGTGTCTGATAGAGGCGATGATCTTTTCCAAAGTCAGTACTTACAAACTGGCATTCTTACAGGCTGCACCATTTCCTAGTATGTCTGCTTTAAGCCTGGTTCAACCTCTCATCGAATATTAAATTTTTCTTTGTAAGAAAAA',\n",
       "  'aa': 'ATGATGATGATGATGATGATGAAAAAAATGCAGCATCAACGGCAGCAGCAAGCGGACCACGCGAACGAGGCAAACTATGCAAGAGGCACCAGACTTCCTCTTTCTGGTGAAGGACCAACTTCTCAGCCGAATAGCTCCAAGCAAACTGTCCTGTCTTGGCAAGCTGCAATCGATGCTGCTAGACAGGCCAAGGCTGCCCAAACTATGAGCACCTCTGCACCCCCACCTGTAGGATCTCTCTCCCAAAGAAAACGTCAGCAATACGCCAAGAGCAAAAAACAGGGTAACTCGTCCAACAGCCGACCTGCCCGCGCCCTTTTCTGTTTATCACTCAATAACCCCATCCGAAGAGCCTGCATTAGTATAGTGGAATGGAAACCATTTGACATATTTATATTATTGGCTATTTTTGCCAATTGTGTGGCCTTAGCTATTTACATCCCATTCCCTGAAGATGATTCTAATTCAACAAATCATAACTTGGAAAAAGTAGAATATGCCTTCCTGATTATTTTTACAGTCGAGACATTTTTGAAGATTATAGCGTATGGATTATTGCTACATCCTAATGCTTATGTTAGGAATGGATGGAATTTACTGGATTTTGTTATAGTAATAGTAGGATTGTTTAGTGTAATTTTGGAACAATTAACCAAAGAAACAGAAGGCGGGAACCACTCAAGCGGCAAATCTGGAGGCTTTGATGTCAAAGCCCTCCGTGCCTTTCGAGTGTTGCGACCACTTCGACTAGTGTCAGGAGTGCCCAGTTTACAAGTTGTCCTGAACTCCATTATAAAAGCCATGGTTCCCCTCCTTCACATAGCCCTTTTGGTATTATTTGTAATCATAATCTATGCTATTATAGGATTGGAACTTTTTATTGGAAAAATGCACAAAACATGTTTTTTTGCTGACTCAGATATCGTAGCTGAAGAGGACCCAGCTCCATGTGCGTTCTCAGGGAATGGACGCCAGTGTACTGCCAATGGCACGGAATGTAGGAGTGGCTGGGTTGGCCCGAACGGAGGCATCACCAACTTTGATAACTTTGCCTTTGCCATGCTTACTGTGTTTCAGTGCATCACCATGGAGGGCTGGACAGATGTGCTCTACTGGATGAATGATGCTATGGGATTTGAATTGCCCTGGGTGTATTTTGTCAGTCTCGTCATCTTTGGGTCATTTTTCGTACTAAATCTTGTACTTGGTGTATTGAGCGGAGAATTCTCAAAGGAAAGAGAGAAGGCAAAAGCACGGGGAGATTTCCAGAAGCTCCGGGAGAAGCAGCAGCTGGAGGAGGATCTAAAGGGCTACTTGGATTGGATCACCCAAGCTGAGGACATCGATCCGGAGAATGAGGAAGAAGGAGGAGAGGAAGGCAAACGAAATACTAGCATGCCCACCAGCGAGACTGAGTCTGTGAACACAGAGAACGTCAGCGGTGAAGGCGAGAACCGAGGCTGCTGTGGAAGTCTCTGTCAAGCCATCTCAAAATCCAAACTCAGCCGACGCTGGCGTCGCTGGAACCGATTCAATCGCAGAAGATGTAGGGCCGCCGTGAAGTCTGTCACGTTTTACTGGCTGGTTATCGTCCTGGTGTTTCTGAACACCTTAACCATTTCCTCTGAGCACTACAATCAGCCAGATTGGTTGACACAGATTCAAGATATTGCCAACAAAGTCCTCTTGGCTCTGTTCACCTGCGAGATGCTGGTAAAAATGTACAGCTTGGGCCTCCAAGCATATTTCGTCTCTCTTTTCAACCGGTTTGATTGCTTCGTGGTGTGTGGTGGAATCACTGAGACGATCTTGGTGGAACTGGAAATCATGTCTCCCCTGGGGATCTCTGTGTTTCGGTGTGTGCGCCTCTTAAGAATCTTCAAAGTGACCAGGCACTGGACTTCCCTGAGCAACTTAGTGGCATCCTTATTAAACTCCATGAAGTCCATCGCTTCGCTGTTGCTTCTGCTTTTTCTCTTCATTATCATCTTTTCCTTGCTTGGGATGCAGCTGTTTGGCGGCAAGTTTAATTTTGATGAAACGCAAACCAAGCGGAGCACCTTTGACAATTTCCCTCAAGCACTTCTCACAGTGTTCCAGATCCTGACAGGCGAAGACTGGAATGCTGTGATGTACGATGGCATCATGGCTTACGGGGGCCCATCCTCTTCAGGAATGATCGTCTGCATCTACTTCATCATCCTCTTCATTTGTGGTAACTATATTCTACTGAATGTCTTCTTGGCCATCGCTGTAGACAATTTGGCTGATGCTGAAAGTCTGAACACTGCTCAGAAAGAAGAAGCGGAAGAAAAGGAGAGGAAAAAGATTGCCAGAAAAGAGAGCCTAGAAAATAAAAAGAACAACAAACCAGAAGTCAACCAGATAGCCAACAGTGACAACAAGGTTACAATTGATGACTATAGAGAAGAGGATGAAGACAAGGACCCCTATCCGCCTTGCGATGTGCCAGTAGGGGAAGAGGAAGAGGAAGAGGAGGAGGATGAACCTGAGGTTCCTGCCGGACCCCGTCCTCGAAGGATCTCGGAGTTGAACATGAAGGAAAAAATTGCCCCCATCCCTGAAGGGAGCGCTTTCTTCATTCTTAGCAAGACCAACCCGATCCGCGTAGGCTGCCACAAGCTCATCAACCACCACATCTTCACCAACCTCATCCTTGTCTTCATCATGCTGAGCAGCGCTGCCCTGGCCGCAGAGGACCCCATCCGCAGCCACTCCTTCCGGAACACGATACTGGGTTACTTTGACTATGCCTTCACAGCCATCTTTACTGTTGAGATCCTGTTGAAGATGACAACTTTTGGAGCTTTCCTCCACAAAGGGGCCTTCTGCAGGAACTACTTCAATTTGCTGGATATGCTGGTGGTTGGGGTGTCTCTGGTGTCATTTGGGATTCAATCCAGTGCCATCTCCGTTGTGAAGATTCTGAGGGTCTTAAGGGTCCTGCGTCCCCTCAGGGCCATCAACAGAGCAAAAGGACTTAAGCACGTGGTCCAGTGCGTCTTCGTGGCCATCCGGACCATCGGCAACATCATGATCGTCACCACCCTCCTGCAGTTCATGTTTGCCTGTATCGGGGTCCAGTTGTTCAAGGGGAAGTTCTATCGCTGTACGGATGAAGCCAAAAGTAACCCTGAAGAATGCAGGGGACTTTTCATCCTCTACAAGGATGGGGATGTTGACAGTCCTGTGGTCCGTGAACGGATCTGGCAAAACAGTGATTTCAACTTCGACAACGTCCTCTCTGCTATGATGGCGCTCTTCACAGTCTCCACGTTTGAGGGCTGGCCTGCGTTGCTGTATAAAGCCATCGACTCGAATGGAGAGAACATCGGCCCAATCTACAACCACCGCGTGGAGATCTCCATCTTCTTCATCATCTACATCATCATTGTAGCTTTCTTCATGATGAACATCTTTGTGGGCTTTGTCATCGTTACATTTCAGGAACAAGGAGAAAAAGAGTATAAGAACTGTGAGCTGGACAAAAATCAGCGTCAGTGTGTTGAATACGCCTTGAAAGCACGTCCCTTGCGGAGATACATCCCCAAAAACCCCTACCAGTACAAGTTCTGGTACGTGGTGAACTCTTCGCCTTTCGAATACATGATGTTTGTCCTCATCATGCTCAACACACTCTGCTTGGCCATGCAGCACTACGAGCAGTCCAAGATGTTCAATGATGCCATGGACATTCTGAACATGGTCTTCACCGGGGTGTTCACCGTCGAGATGGTTTTGAAAGTCATCGCATTTAAGCCTAAGGGGTATTTTAGTGACGCCTGGAACACGTTTGACTCCCTCATCGTAATCGGCAGCATTATAGACGTGGCCCTCAGCGAAGCAGACCCAACTGAAAGTGAAAATGTCCCTGTCCCAACTGCTACACCTGGGAACTCTGAAGAGAGCAATAGAATCTCCATCACCTTTTTCCGTCTTTTCCGAGTGATGCGATTGGTGAAGCTTCTCAGCAGGGGGGAAGGCATCCGGACATTGCTGTGGACTTTTATTAAGTCCTTTCAGGCGCTCCCGTATGTGGCCCTCCTCATAGCCATGCTGTTCTTCATCTATGCGGTCATTGGCATGCAGATGTTTGGGAAAGTTGCCATGAGAGATAACAACCAGATCAATAGGAACAATAACTTCCAGACGTTTCCCCAGGCGGTGCTGCTGCTCTTCAGGTGTGCAACAGGTGAGGCCTGGCAGGAGATCATGCTGGCCTGTCTCCCAGGGAAGCTCTGTGACCCTGAGTCAGATTACAACCCCGGGGAGGAGTATACATGTGGGAGCAACTTTGCCATTGTCTATTTCATCAGTTTTTACATGCTCTGTGCATTTCTGATCATCAATCTGTTTGTGGCTGTCATCATGGATAATTTCGACTATCTGACCCGGGACTGGTCTATTTTGGGGCCTCACCATTTAGATGAATTCAAAAGAATATGGTCAGAATATGACCCTGAGGCAAAGGGAAGGATAAAACACCTTGATGTGGTCACTCTGCTTCGACGCATCCAGCCTCCCCTGGGGTTTGGGAAGTTATGTCCACACAGGGTAGCGTGCAAGAGATTAGTTGCCATGAACATGCCTCTCAACAGTGACGGGACAGTCATGTTTAATGCAACCCTGTTTGCTTTGGTTCGAACGGCTCTTAAGATCAAGACCGAAGGGAACCTGGAGCAAGCTAATGAAGAACTTCGGGCTGTGATAAAGAAAATTTGGAAGAAAACCAGCATGAAATTACTTGACCAAGTTGTCCCTCCAGCTGGTGATGATGAGGTAACCGTGGGGAAGTTCTATGCCACTTTCCTGATACAGGACTACTTTAGGAAATTCAAGAAACGGAAAGAACAAGGACTGGTGGGAAAGTACCCTGCGAAGAACACCACAATTGCCCTACAGGCGGGATTAAGGACACTGCATGACATTGGGCCAGAAATCCGGCGTGCTATATCGTGTGATTTGCAAGATGACGAGCCTGAGGAAACAAAACGAGAAGAAGAAGATGATGTGTTCAAAAGAAATGGTGCCCTGCTTGGAAACCATGTCAATCATGTTAATAGTGATAGGAGAGATTCCCTTCAGCAGACCAATACCACCCACCGTCCCCTGCATGTCCAAAGGCCTTCAATTCCACCTGCAAGTGATACTGAGAAACCGCTGTTTCCTCCAGCAGGAAATTCGGTGTGTCATAACCATCATAACCATAATTCCATAGGAAAGCAAGTTCCCACCTCAACAAATGCCAATCTCAATAATGCCAATATGTCCAAAGCTGCCCATGGAAAGCGGCCCAGCATTGGGAACCTTGAGCATGTGTCTGAAAATGGGCATCATTCTTCCCACAAGCATGACCGGGAGCCTCAGAGAAGGTCCAGTGTGAAAAGAACCCGCTATTATGAAACTTACATTAGGTCCGACTCAGGAGATGAACAGCTCCCAACTATTTGCCGGGAAGACCCAGAGATACATGGCTATTTCAGGGACCCCCACTGCTTGGGGGAGCAGGAGTATTTCAGTAGTGAGGAATGCTACGAGGATGACAGCTCGCCCACCTGGAGCAGGCAAAACTATGGCTACTACAGCAGATACCCAGGCAGAAACATCGACTCTGAGAGGCCCCGAGGCTACCATCATCCCCAAGGATTCTTGGAGGACGATGACTCGCCCGTTTGCTATGATTCACGGAGATCTCCAAGGAGACGCCTACTACCTCCCACCCCAGCATCCCACCGGAGATCCTCCTTCAACTTTGAGTGCCTGCGCCGGCAGAGCAGCCAGGAAGAGGTCCCGTCGTCTCCCATCTTCCCCCATCGCACGGCCCTGCCTCTGCATCTAATGCAGCAACAGATCATGGCAGTTGCCGGCCTAGATTCAAGTAAAGCCCAGAAGTACTCACCGAGTCACTCGACCCGGTCGTGGGCCACCCCTCCAGCAACCCCTCCCTACCGGGACTGGACACCGTGCTACACCCCCCTGATCCAAGTGGAGCAGTCAGAGGCCCTGGACCAGGTGAACGGCAGCCTGCCGTCCCTGCACCGCAGCTCCTGGTACACAGACGAGCCCGACATCTCCTACCGGACTTTCACACCAGCCAGCCTGACTGTCCCCAGCAGCTTCCGGAACAAAAACAGCGACAAGCAGAGGAGTGCGGACAGCTTGGTGGAGGCAGTCCTGATATCCGAAGGCTTGGGACGCTATGCAAGGGACCCAAAATTTGTGTCAGCAACAAAACACGAAATCGCTGATGCCTGTGACCTCACCATCGACGAGATGGAGAGTGCAGCCAGCACCCTGCTTAATGGGAACGTGCGTCCCCGAGCCAACGGGGATGTGGGCCCCCTCTCACACCGGCAGGACTATGAGCTACAGGACTTTGGTCCTGGCTACAGCGACGAAGAGCCAGACCCTGGGAGGGATGAGGAGGACCTGGCGGATGAAATGATATGCATCACCACCTTG',\n",
       "  'start': 556},\n",
       " ['chr3', '+', (53494611, 53495166), (53494611, 53495166)])"
      ]
     },
     "execution_count": 83,
     "metadata": {},
     "output_type": "execute_result"
    }
   ],
   "source": [
    "high2phast['ENSG00000157388'], ensg2phast['ENSG00000071564'], id2all[ensg2enst['ENSG00000157388']],ensg25utr_region['ENSG00000157388']"
   ]
  },
  {
   "cell_type": "code",
   "execution_count": 90,
   "metadata": {},
   "outputs": [
    {
     "name": "stdout",
     "output_type": "stream",
     "text": [
      "429\n",
      "431\n",
      "743\n",
      "755\n",
      "1676\n",
      "2540\n"
     ]
    }
   ],
   "source": [
    "# 画矩形块(2476289, 2476588)，(2476289, 2476225)的颜色深度261，(2476630, 2476588)的颜色深度300，其余白色\n",
    "import matplotlib.pyplot as plt\n",
    "import numpy as np\n",
    "import matplotlib.patches as patches\n",
    "high_plot_regions = [(0,350), (350,650), (650, len(new_high2phast))]\n",
    "low_plot_regions = [(0,350), (350,650), (650, len(new_low2phast))]\n",
    "max_lens = [431,755,2540]\n",
    "cmap = plt.get_cmap('PuBu')\n",
    "norm = plt.Normalize(vmin=0,vmax=1000)\n",
    "high2block = {}; low2block = {}\n",
    "for p in range(3):\n",
    "    high_start, high_end = high_plot_regions[p]; low_start, low_end = low_plot_regions[p]; max_len = max_lens[p]\n",
    "    fig = plt.figure(figsize=(6,int(high_end-high_start)/50))\n",
    "    titles = [\"high TE\", \"low TE\"]\n",
    "    for idx,data in enumerate([new_high2phast[high_start:high_end], new_low2phast[low_start:low_end]]):\n",
    "     \n",
    "        end_len_all = []\n",
    "        names = new_high2phast_names[high_start:high_end] if idx == 0 else new_low2phast_names[low_start:low_end]\n",
    "\n",
    "        ax = fig.add_subplot(1,2,idx+1)\n",
    "        num = len(data); width = 1 / num; pidx = 0\n",
    "\n",
    "        for name,v in zip(names,data):\n",
    "            r_id = 0\n",
    "            block = 0\n",
    "            utr_len = v['utr_len']\n",
    "            tmp_block = [utr_len]\n",
    "            if v['phast'] == []:\n",
    "                ax.add_patch(patches.Rectangle((0, pidx*width), 1000, width, color='white'))\n",
    "                pidx += 1\n",
    "                if idx == 0:\n",
    "                    high2block[name] = tmp_block\n",
    "                else:\n",
    "                    low2block[name] = tmp_block\n",
    "                continue\n",
    "            phast = []\n",
    "            for phast in v['phast']:\n",
    "                flag = False\n",
    "                start = phast[0]; end = phast[1]; score = phast[2]\n",
    "                # if score > 500 and end - start > 100:\n",
    "                if True:\n",
    "                    color = (1-score/1000,0,0)\n",
    "                    # color = cmap(norm(score)) \n",
    "                    tmp_block.append((score,end-start))\n",
    "                    ax.add_patch(patches.Rectangle((start , pidx*width), end-start, width, color=color))\n",
    "                    flag = True\n",
    "                    if end > utr_len:\n",
    "                        print(name,utr_len,end)\n",
    "                \n",
    "            ax.add_patch(patches.Rectangle((utr_len , pidx*width-width/2), 1, width*2, color='grey'))\n",
    "            if idx == 0:\n",
    "                high2block[name] = tmp_block\n",
    "            else:\n",
    "                low2block[name] = tmp_block\n",
    "            pidx += 1\n",
    "            if pidx == num: break\n",
    "            end_len_all.append(utr_len)\n",
    "        end_len = np.quantile(end_len_all, 1)\n",
    "        ax.set_xlim(0,max_len)\n",
    "\n",
    "\n",
    "\n",
    "        print(end_len)\n",
    "        ax.set_yticks([])\n",
    "        # ax.set_xlabel(\"low 5'UTR length\")\n",
    "        if p != 1:\n",
    "            ax.set_xlabel(titles[idx],fontsize=16)\n",
    "    # break\n",
    "    plt.savefig(f\"figures/phast_high_low_{p}.pdf\", bbox_inches='tight', format='pdf')\n",
    "    # plt.savefig(f\"figures/phast_high_low_{p}_500.pdf\", bbox_inches='tight', format='pdf')\n",
    "    plt.close()"
   ]
  },
  {
   "cell_type": "code",
   "execution_count": null,
   "metadata": {},
   "outputs": [],
   "source": []
  },
  {
   "cell_type": "code",
   "execution_count": null,
   "metadata": {},
   "outputs": [],
   "source": []
  },
  {
   "cell_type": "code",
   "execution_count": 87,
   "metadata": {},
   "outputs": [
    {
     "name": "stdout",
     "output_type": "stream",
     "text": [
      "745 745\n"
     ]
    },
    {
     "data": {
      "text/plain": [
       "(TtestResult(statistic=2.77854950080061, pvalue=0.005528840916388316, df=1488.0),\n",
       " WilcoxonResult(statistic=15345.0, pvalue=0.004526059816951237))"
      ]
     },
     "execution_count": 87,
     "metadata": {},
     "output_type": "execute_result"
    }
   ],
   "source": [
    "print(len(high2block), len(low2block))\n",
    "high_utr_lens = []; low_utr_lens = []\n",
    "highscores = []; lowscores = []\n",
    "for k,v in high2block.items():\n",
    "    high_utr_lens.append(v[0])\n",
    "    if len(v) > 1:\n",
    "        utr_len = v[0]*1000; tmp_score = 1\n",
    "        for score,l in v[1:]:\n",
    "            tmp_score += score*l\n",
    "        highscores.append(tmp_score/utr_len)\n",
    "    else:\n",
    "        highscores.append(0)\n",
    "for k,v in low2block.items():\n",
    "    low_utr_lens.append(v[0])\n",
    "    if len(v) > 1:\n",
    "        utr_len = v[0]*1000; tmp_score = 1\n",
    "        for score,l in v[1:]:\n",
    "            tmp_score += score*l\n",
    "        lowscores.append(tmp_score/utr_len)\n",
    "    else:\n",
    "        lowscores.append(0)\n",
    "from scipy.stats import wilcoxon,ttest_ind\n",
    "ttest_ind(highscores, lowscores),wilcoxon(highscores, lowscores)"
   ]
  },
  {
   "cell_type": "code",
   "execution_count": 88,
   "metadata": {},
   "outputs": [
    {
     "data": {
      "text/plain": [
       "(0.002263, 1.9202255066069823e-07)"
      ]
     },
     "execution_count": 88,
     "metadata": {},
     "output_type": "execute_result"
    }
   ],
   "source": [
    "'''\n",
    "cut500\n",
    "(TtestResult(statistic=2.77854950080061, pvalue=0.005528840916388316, df=1488.0),\n",
    " WilcoxonResult(statistic=15345.0, pvalue=0.004526059816951237))\n",
    "\n",
    "cut0\n",
    "(TtestResult(statistic=4.460445953458336, pvalue=8.793392683052747e-06, df=1488.0),\n",
    " WilcoxonResult(statistic=99042.0, pvalue=3.8404510132139645e-07))\n",
    "\n",
    "单端检验以上/2\n",
    "'''\n",
    "0.0045260/2,3.8404510132139645e-07/2"
   ]
  },
  {
   "cell_type": "code",
   "execution_count": 46,
   "metadata": {},
   "outputs": [],
   "source": [
    "import matplotlib.pyplot as plt\n",
    "import matplotlib.patches as patches\n",
    "import numpy as np\n",
    "from matplotlib.colors import LinearSegmentedColormap\n",
    "\n",
    "cmap = LinearSegmentedColormap.from_list('red_black', [(1, 0, 0), (0, 0, 0)], N=256)\n",
    "\n",
    "fig, ax = plt.subplots(figsize=(15, 1))\n",
    "\n",
    "gradient = np.linspace(0, 1, 100)\n",
    "gradient = np.vstack((gradient, gradient))\n",
    "\n",
    "ax.imshow(gradient, aspect='auto', cmap=cmap, origin='lower')\n",
    "\n",
    "cbar = plt.colorbar(ax.imshow(gradient, aspect='auto', cmap=cmap, origin='lower'),\n",
    "                    ax=ax, orientation='horizontal')\n",
    "cbar.set_label('Phast Score',fontsize=50)\n",
    "cbar.set_ticks([0, 1])\n",
    "cbar.set_ticklabels(['0', '1000'],fontsize=50)\n",
    "\n",
    "ax.set_xticks([])\n",
    "ax.set_yticks([])\n",
    "\n",
    "plt.savefig(\"figures/colorbar.pdf\", bbox_inches='tight', format='pdf')\n",
    "plt.close()"
   ]
  },
  {
   "cell_type": "code",
   "execution_count": null,
   "metadata": {},
   "outputs": [],
   "source": []
  }
 ],
 "metadata": {
  "kernelspec": {
   "display_name": "base",
   "language": "python",
   "name": "python3"
  },
  "language_info": {
   "codemirror_mode": {
    "name": "ipython",
    "version": 3
   },
   "file_extension": ".py",
   "mimetype": "text/x-python",
   "name": "python",
   "nbconvert_exporter": "python",
   "pygments_lexer": "ipython3",
   "version": "3.9.12"
  }
 },
 "nbformat": 4,
 "nbformat_minor": 2
}
