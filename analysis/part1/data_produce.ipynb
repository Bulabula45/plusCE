{
 "cells": [
  {
   "cell_type": "code",
   "execution_count": 1,
   "metadata": {},
   "outputs": [],
   "source": [
    "from Bio import SeqIO\n",
    "import pandas as pd\n",
    "from Bio.Seq import Seq\n",
    "import pickle\n",
    "import matplotlib.pyplot as plt\n",
    "import numpy as np\n",
    "import seaborn as sns\n",
    "import os\n",
    "os.chdir(\"/home/chensa/gb_data/data_for_analysis/\")"
   ]
  },
  {
   "cell_type": "code",
   "execution_count": 4,
   "metadata": {},
   "outputs": [
    {
     "name": "stdout",
     "output_type": "stream",
     "text": [
      "45\n",
      "7137\n",
      "1649\n"
     ]
    }
   ],
   "source": [
    "paths = ['smprot', 'spencer', 'ahigh']\n",
    "prefix_path = \"/home/chensa/gb_data/data_for_analysis/long/\"\n",
    "id_list = []\n",
    "lens = []\n",
    "for path in paths:\n",
    "    num = 0\n",
    "    id2all = pickle.load(open(path + f\"/{path}_id2all.pkl\", \"rb\"))\n",
    "    for id,info in id2all.items():\n",
    "        if type(info['start'])==int:\n",
    "            num += 1\n",
    "        else:\n",
    "            num += len(info['start'])\n",
    "    print(num)"
   ]
  },
  {
   "cell_type": "code",
   "execution_count": 90,
   "metadata": {},
   "outputs": [],
   "source": [
    "id2all = pickle.load(open(\"/home/chensa/gb_data/data_for_analysis/ncRNA/ncRNA_id2all.pkl\", \"rb\"))\n",
    "# with open(\"ncRNA_5utr_d50.fasta\",\"w\") as f:\n",
    "nc2seq = {}\n",
    "for id,v in id2all.items():\n",
    "    regions = v['orf']\n",
    "    seq = v['rna']\n",
    "    for start,end in regions:\n",
    "        nc2seq[id+'_'+str(start)] = seq[:start+4]"
   ]
  },
  {
   "cell_type": "markdown",
   "metadata": {},
   "source": [
    "### mRNA"
   ]
  },
  {
   "cell_type": "code",
   "execution_count": 70,
   "metadata": {},
   "outputs": [],
   "source": [
    "id2all = pickle.load(open(\"/home/chensa/gb_data/data_for_analysis/mRNA/mRNA_id2all.pkl\", \"rb\"))\n",
    "with open(\"/home/chensa/gb_data/data_for_analysis/mRNA_d50.fasta\",\"w\") as f1:\n",
    "    with open(\"/home/chensa/gb_data/data_for_analysis/mRNA_5utr_d1.fasta\",\"w\") as f2:\n",
    "        with open(\"/home/chensa/gb_data/data_for_analysis/mRNA_orf.fasta\",\"w\") as f3:\n",
    "            with open(\"/home/chensa/gb_data/data_for_analysis/mRNA_Transcript.fasta\",\"w\") as f4:\n",
    "                for id,v in id2all.items():\n",
    "                    seq = v['rna']\n",
    "                    start = v['start']\n",
    "                    orf = v['aa']\n",
    "                    # if start+53>20000:continue\n",
    "                    if start+4<10:continue\n",
    "                    f4.write('>'+id+'\\n'+seq+'\\n')\n",
    "                    f3.write('>'+id+'\\n'+orf+'\\n')\n",
    "                    d4 = seq[:start+4];f2.write(\">%s_%s\\n%s\\n\" % (id,start,d4))\n",
    "                    d50 = seq[start+3:start+53];f1.write(\">%s_%s\\n%s\\n\" % (id,start,d50))\n",
    "                    if seq[start:start+3] != 'ATG':\n",
    "                        print(id,seq[start:start+3])"
   ]
  },
  {
   "cell_type": "markdown",
   "metadata": {},
   "source": [
    "### ribo_ncRNA"
   ]
  },
  {
   "cell_type": "code",
   "execution_count": 65,
   "metadata": {},
   "outputs": [],
   "source": [
    "long_list = [\"SPENT000505\",\"SPENT001022\",\"SPENT001121\",\"SPENT001152\",\"SPENT001236\",\"SPENT001242\",\"SPENT001245\",\"SPENT001490\",\"SPENT001497\",\"SPENT001628\",\"SPENT002329\",\"SPENT002355\",\"SPENT002479\",\"SPENT002482\",\"SPENT002583\",\"SPENT002812\",\"SPENT003357\",\"SPENT003813\",\"SPENT004029\",\"SPENT004752\",\"SPENT004779\",\"SPENT004824\",\"SPENT004899\",\"SPENT005094\",\"SPENT005273\",\"SPENT005586\",\"SPENT005984\",\"SPENT006710\",\"SPENT006798\",\"ENCT00000134037\",\"ENCT00000173097\",\"ENCT00000478327\",\"MICT00000098400\",\"MICT00000119320\"]"
   ]
  },
  {
   "cell_type": "code",
   "execution_count": 69,
   "metadata": {},
   "outputs": [],
   "source": [
    "paths = ['smprot', 'spencer', 'ahigh']\n",
    "prefix_path = \"/home/chensa/gb_data/data_for_analysis/long/\"\n",
    "id_list = []\n",
    "lens = []\n",
    "with open(prefix_path + \"ribo_5utr_d1.fasta\",\"w\") as f1:\n",
    "    with open(prefix_path + \"ribo_orf.fasta\",\"w\") as f2:\n",
    "        with open(prefix_path + \"ribo_d50.fasta\",\"w\") as f3:\n",
    "            with open(prefix_path + 'ribo_Transcript.fasta','w') as w:\n",
    "                for path in paths:\n",
    "                    id2all = pickle.load(open(path + f\"/{path}_id2all.pkl\", \"rb\"))\n",
    "                    for id,v in id2all.items():\n",
    "                        if id not in long_list:continue\n",
    "                        seq = v['rna']\n",
    "                        if type(v['start']) == int:\n",
    "                            start = v['start']\n",
    "                            if start+4<10:continue\n",
    "                            lens.append(start+4)\n",
    "                            d4 = seq[:start+4];f1.write(\">%s_%s\\n%s\\n\" % (id,start,d4))\n",
    "                            orf = v['aa'];f2.write(\">%s_%s\\n%s\\n\" % (id,start,orf))\n",
    "                            d50 = seq[start+3:start+53];f3.write(\">%s_%s\\n%s\\n\" % (id,start,d50))\n",
    "                            if id not in id_list:w.write('>'+id+'\\n'+seq+'\\n');id_list.append(id)\n",
    "                        else:\n",
    "                            for idx,start in enumerate(v['start']):\n",
    "                                if start+4<10:continue\n",
    "                                if id not in id_list:w.write('>'+id+'\\n'+seq+'\\n');id_list.append(id)\n",
    "                                lens.append(start+4)\n",
    "                                d4 = seq[:start+4];f1.write(\">%s_%s\\n%s\\n\" % (id,start,d4))\n",
    "                                orf = v['aa'][idx];f2.write(\">%s_%s\\n%s\\n\" % (id,start,orf))\n",
    "                                d50 = seq[start+3:start+53];f3.write(\">%s_%s\\n%s\\n\" % (id,start,d50))"
   ]
  },
  {
   "cell_type": "markdown",
   "metadata": {},
   "source": [
    "! cd-hit -i ribo_Transcript.fasta -o ribo_Transcript.dedup.fasta\n",
    "! mv ribo_Transcript.fasta ribo_Transcript.fasta.bak\n",
    "! mv ribo_Transcript.dedup.fasta ribo_Transcript.fasta"
   ]
  },
  {
   "cell_type": "code",
   "execution_count": 91,
   "metadata": {},
   "outputs": [],
   "source": [
    "path_real = \"/home/chensa/gb_data/data_for_analysis/\"\n",
    "os.chdir(path_real)\n",
    "records = SeqIO.parse(f\"{path_real}ribo_Transcript.fasta\", \"fasta\")\n",
    "keep_list = []\n",
    "for rec in records:\n",
    "    keep_list.append(rec.id)\n",
    "lens = []\n",
    "records = SeqIO.parse(\"old_sequences/ribo_5utr_d1.fasta\", \"fasta\")\n",
    "with open(\"ribo_5utr_d1.fasta\",\"w\") as f:   \n",
    "    for rec in records:\n",
    "        tid = rec.id.split('_')[0]\n",
    "        if tid in keep_list:\n",
    "            f.write(\">%s\\n%s\\n\" % (rec.id, rec.seq))\n",
    "            lens.append(len(rec.seq))\n",
    "records = SeqIO.parse(\"old_sequences/ribo_orf.fasta\", \"fasta\")\n",
    "with open(\"ribo_orf.fasta\",\"w\") as f:   \n",
    "    for rec in records:\n",
    "        tid = rec.id.split('_')[0]\n",
    "        if tid in keep_list:\n",
    "            f.write(\">%s\\n%s\\n\" % (rec.id, rec.seq))\n",
    "records = SeqIO.parse(\"energy/ribo_d50.fasta\", \"fasta\")\n",
    "with open(\"ribo_d50.fasta\",\"w\") as f:   \n",
    "    for rec in records:\n",
    "        tid = rec.id.split('_')[0]\n",
    "        if tid in keep_list:\n",
    "            f.write(\">%s\\n%s\\n\" % (rec.id, rec.seq))\n",
    "records = SeqIO.parse(\"ribo_5utr_d1.fasta\", \"fasta\")\n",
    "lens = []\n",
    "for rec in records:\n",
    "    lens.append(len(rec.seq))"
   ]
  },
  {
   "cell_type": "code",
   "execution_count": 92,
   "metadata": {},
   "outputs": [
    {
     "data": {
      "text/plain": [
       "6296"
      ]
     },
     "execution_count": 92,
     "metadata": {},
     "output_type": "execute_result"
    }
   ],
   "source": [
    "len(lens)"
   ]
  },
  {
   "cell_type": "markdown",
   "metadata": {},
   "source": [
    "### ncRNA"
   ]
  },
  {
   "cell_type": "code",
   "execution_count": 103,
   "metadata": {},
   "outputs": [
    {
     "data": {
      "text/plain": [
       "(array([1261,  900,  607, ...,    0,    0,    1]),\n",
       " array([1.00000000e+01, 1.00960667e+02, 1.91921333e+02, ...,\n",
       "        2.72710079e+05, 2.72801039e+05, 2.72892000e+05]))"
      ]
     },
     "execution_count": 103,
     "metadata": {},
     "output_type": "execute_result"
    }
   ],
   "source": [
    "cnt, len_bin = np.histogram(lens, bins=3000)\n",
    "cnt, len_bin"
   ]
  },
  {
   "cell_type": "code",
   "execution_count": 94,
   "metadata": {},
   "outputs": [],
   "source": [
    "import subprocess\n",
    "import os\n",
    "os.chdir(\"/home/chensa/gb_data/data_for_analysis/\")\n",
    "enst_in_ribo = []\n",
    "cmd = \"grep ENST ribo_Transcript.fasta\"\n",
    "p = subprocess.Popen(cmd, shell=True, stdout=subprocess.PIPE, stderr=subprocess.PIPE)\n",
    "out, err = p.communicate()\n",
    "out = out.decode()\n",
    "out = out.split('\\n')\n",
    "for i in out:\n",
    "    if i:\n",
    "        enst_in_ribo.append(i.split('>')[1])"
   ]
  },
  {
   "cell_type": "code",
   "execution_count": 104,
   "metadata": {},
   "outputs": [],
   "source": [
    "# cmd = \"grep ENST tmpres.clstr\"\n",
    "# p = subprocess.Popen(cmd, shell=True, stdout=subprocess.PIPE, stderr=subprocess.PIPE)\n",
    "# out, err = p.communicate()\n",
    "# out = out.decode()\n",
    "# out = out.split('\\n')\n",
    "# print(len(out))\n",
    "# for i in out:\n",
    "#     if i:\n",
    "#         enst_in_ribo.append(i.split('>')[1].split('_')[0])\n",
    "\n",
    "\n",
    "bin2id = [[] for _ in range(len(cnt)+1)]\n",
    "for ncenst, seq in nc2seq.items():\n",
    "    if ncenst.split('_')[0] in enst_in_ribo:\n",
    "        continue\n",
    "    bin2id[np.searchsorted(len_bin, len(seq))-1].append(ncenst)\n",
    "\n",
    "keep_ids = []\n",
    "SEED = 1234\n",
    "np.random.seed(SEED)\n",
    "\n",
    "for idx,ids in enumerate(bin2id[:-1]):\n",
    "    sample_cnt = cnt[idx]\n",
    "    keep_ids.extend(list(np.random.choice(ids, sample_cnt)))\n",
    "\n",
    "stops = set([\"TAA\",\"TAG\",\"TGA\"])\n",
    "with open('ncRNA_Transcript.fasta','w') as w:\n",
    "    with open(\"ncRNA_5utr_d1.fasta\",\"w\") as f1:\n",
    "        with open(\"ncRNA_orf.fasta\",\"w\") as f2:\n",
    "            with open(\"ncRNA_d50.fasta\",\"w\") as f3:\n",
    "                for orf_id in keep_ids:\n",
    "                    tid = ('_').join(orf_id.split('_')[:-1])\n",
    "                    start = int(orf_id.split('_')[-1])\n",
    "                    rnaseq = id2all[tid]['rna']\n",
    "                    w.write('>'+tid+'\\n'+rnaseq+'\\n')\n",
    "                    d4 = rnaseq[:start+4]\n",
    "                    f1.write('>'+tid+f'_{str(start)}\\n'+d4+'\\n')\n",
    "                    d50 = rnaseq[start+3:start+53]\n",
    "                    f3.write('>'+tid+f'_{str(start)}\\n'+d50+'\\n')\n",
    "                    for i in range(start+3, len(rnaseq), 3):\n",
    "                        if i+3 > len(rnaseq): break\n",
    "                        codon = rnaseq[i:i+3]\n",
    "                        if codon in stops:\n",
    "                            break\n",
    "                    orf = rnaseq[start:i+3]\n",
    "                    f2.write('>'+tid+f'_{str(start)}\\n'+orf+'\\n')\n",
    "\n",
    "# cmd = \"cd-hit-2d -i ribo_5utr_d1.fasta -i2 ncRNA_5utr_d1.fasta -o tmpres -T 20 -M 100000\"\n",
    "# p = subprocess.Popen(cmd, shell=True, stdout=subprocess.PIPE, stderr=subprocess.PIPE)\n",
    "# out, err = p.communicate()"
   ]
  },
  {
   "cell_type": "code",
   "execution_count": 96,
   "metadata": {},
   "outputs": [
    {
     "name": "stdout",
     "output_type": "stream",
     "text": [
      "/home/chensa/gb_data/data_for_analysis\n"
     ]
    }
   ],
   "source": [
    "!pwd"
   ]
  },
  {
   "cell_type": "code",
   "execution_count": 84,
   "metadata": {},
   "outputs": [
    {
     "data": {
      "text/plain": [
       "['================================================================',\n",
       " 'Program: CD-HIT, V4.8.1 (+OpenMP), Jul 28 2024, 08:30:08',\n",
       " 'Command: cd-hit-2d -i ribo_5utr_d1.fasta -i2',\n",
       " '         ncRNA_5utr_d1.fasta -o tmpres -T 20 -M 100000',\n",
       " '',\n",
       " 'Started: Wed Jul 31 15:43:08 2024',\n",
       " '================================================================',\n",
       " '                            Output                              ',\n",
       " '----------------------------------------------------------------',\n",
       " 'total seq in db1: 6283',\n",
       " 'total seq in db2: 6296',\n",
       " 'longest and shortest : 272892 and 11',\n",
       " 'Total letters: 9722128',\n",
       " 'Sequences have been sorted',\n",
       " 'longest and shortest : 271660 and 11',\n",
       " 'Total letters: 10478897',\n",
       " '',\n",
       " 'Approximated minimal memory consumption:',\n",
       " 'Sequence        : 21M',\n",
       " 'Buffer          : 20 X 68M = 1368M',\n",
       " 'Table           : 2 X 65M = 130M',\n",
       " 'Miscellaneous   : 0M',\n",
       " 'Total           : 1520M',\n",
       " '',\n",
       " 'Table limit with the given memory limit:',\n",
       " 'Max number of representatives: 40000',\n",
       " 'Max number of word counting entries: 12309913858',\n",
       " '',\n",
       " '......\\r 0.1%\\r 0.3%\\r 0.5%\\r 0.7%\\r 0.9%\\r 1.0%\\r 1.2%\\r 1.4%\\r 1.5%\\r 1.6%\\r 1.8%\\r 2.0%\\r 2.1%\\r 2.2%\\r 2.4%\\r 2.6%\\r 2.7%\\r 2.9%\\r 3.0%\\r 3.3%\\r 3.4%\\r 3.6%\\r 3.8%\\r 3.9%\\r 4.1%\\r 4.2%\\r 4.3%\\r 4.4%\\r 4.6%\\r 4.7%\\r 4.8%\\r 4.9%\\r 5.1%\\r 5.2%\\r 5.3%\\r 5.5%\\r 5.6%\\r 5.8%\\r 5.9%\\r 6.1%\\r 6.2%\\r 6.4%\\r 6.5%\\r 6.7%\\r 6.8%\\r 7.0%\\r 7.1%\\r 7.3%\\r 7.4%\\r 7.8%\\r 8.0%\\r 8.1%\\r 8.2%\\r 8.4%\\r 8.5%\\r 8.6%\\r 8.8%\\r 8.9%\\r 9.2%\\r 9.3%\\r 9.5%\\r 9.6%\\r 9.7%\\r 9.8%\\r10.1%\\r10.2%\\r10.3%\\r10.5%\\r10.6%\\r10.8%\\r10.9%\\r11.0%\\r11.2%\\r11.3%\\r11.5%\\r11.6%\\r11.8%\\r11.9%\\r12.0%\\r12.1%\\r12.3%\\r12.4%\\r12.5%\\r12.7%\\r12.9%\\r13.0%\\r13.2%\\r13.3%\\r13.4%\\r13.5%\\r13.8%\\r14.0%\\r14.1%\\r14.3%\\r14.5%\\r14.6%\\r14.7%\\r14.9%\\r15.0%\\r15.2%\\r15.3%\\r15.5%\\r15.8%\\r15.9%\\r16.0%\\r16.2%\\r16.3%\\r16.4%\\r16.5%\\r16.7%\\r16.9%\\r17.0%\\r17.1%\\r17.3%\\r17.4%\\r17.7%\\r17.8%\\r18.0%\\r18.2%\\r18.3%\\r18.4%\\r18.5%\\r18.7%\\r18.8%\\r18.9%\\r19.2%\\r19.3%\\r19.6%\\r19.7%\\r19.9%\\r20.0%\\r20.1%\\r20.2%\\r20.3%\\r20.5%\\r20.6%\\r20.8%\\r20.9%\\r21.1%\\r21.3%\\r21.4%\\r21.6%\\r21.8%\\r21.9%\\r22.1%\\r22.2%\\r22.4%\\r22.6%\\r22.7%\\r22.8%\\r23.0%\\r23.1%\\r23.3%\\r23.4%\\r23.6%\\r23.7%\\r23.9%\\r24.1%\\r24.3%\\r24.4%\\r24.6%\\r24.7%\\r24.8%\\r25.0%\\r25.2%\\r25.3%\\r25.5%\\r25.7%\\r25.9%\\r26.1%\\r26.2%\\r26.4%\\r26.5%\\r26.6%\\r26.8%\\r26.9%\\r27.0%\\r27.1%\\r27.3%\\r27.4%\\r27.6%\\r27.8%\\r27.9%\\r28.1%\\r28.3%\\r28.4%\\r28.5%\\r28.6%\\r28.8%\\r28.9%\\r29.1%\\r29.3%\\r29.4%\\r29.5%\\r29.6%\\r29.8%\\r30.0%\\r30.1%\\r30.2%\\r30.3%\\r30.5%\\r30.6%\\r30.7%\\r30.8%\\r31.1%\\r31.2%\\r31.4%\\r31.6%\\r31.8%\\r32.0%\\r32.1%\\r32.3%\\r32.4%\\r32.5%\\r32.7%\\r32.8%\\r33.0%\\r33.1%\\r33.2%\\r33.3%\\r33.5%\\r33.6%\\r33.7%\\r33.8%\\r34.0%\\r34.1%\\r34.3%\\r34.5%\\r34.7%\\r34.8%\\r35.1%\\r35.2%\\r35.4%\\r35.5%\\r35.6%\\r35.7%\\r35.9%\\r36.0%\\r36.1%\\r36.3%\\r36.5%\\r36.7%\\r36.9%\\r37.1%\\r37.3%\\r37.5%\\r37.7%\\r37.8%\\r38.0%\\r38.1%\\r38.2%\\r38.5%\\r38.6%\\r38.7%\\r38.9%\\r39.0%\\r39.1%\\r39.3%\\r39.4%\\r39.6%\\r39.7%\\r39.9%\\r40.0%\\r40.2%\\r40.3%\\r40.4%\\r40.7%\\r40.8%\\r40.9%\\r41.1%\\r41.2%\\r41.4%\\r41.5%\\r41.7%\\r41.9%\\r42.0%\\r42.1%\\r42.2%\\r42.5%\\r42.6%\\r42.8%\\r42.9%\\r43.1%\\r43.3%\\r43.4%\\r43.6%\\r43.8%\\r43.9%\\r44.2%\\r44.3%\\r44.5%\\r44.7%\\r44.8%\\r44.9%\\r45.1%\\r45.3%\\r45.4%\\r45.5%\\r45.6%\\r45.8%\\r46.1%\\r46.2%\\r46.3%\\r46.4%\\r46.6%\\r46.8%\\r46.9%\\r47.1%\\r47.2%\\r47.4%\\r47.6%\\r47.7%\\r47.9%\\r48.0%\\r48.2%\\r48.3%\\r48.5%\\r48.6%\\r48.7%\\r48.8%\\r49.0%\\r49.2%\\r49.3%\\r49.4%\\r49.6%\\r49.7%\\r49.9%\\r50.1%\\r50.2%\\r50.3%\\r50.5%\\r50.6%\\r50.8%\\r50.9%\\r51.1%\\r51.2%\\r51.5%\\r51.6%\\r51.7%\\r51.9%\\r52.0%\\r52.2%\\r52.4%\\r52.6%\\r52.7%\\r52.8%\\r53.1%\\r53.2%\\r53.4%\\r53.6%\\r53.8%\\r53.9%\\r54.0%\\r54.1%\\r54.3%\\r54.4%\\r54.5%\\r54.8%\\r54.9%\\r55.1%\\r55.3%\\r55.5%\\r55.6%\\r55.7%\\r55.9%\\r56.0%\\r56.2%\\r56.3%\\r56.5%\\r56.6%\\r56.7%\\r56.8%\\r56.9%\\r57.1%\\r57.2%\\r57.3%\\r57.5%\\r57.6%\\r57.8%\\r57.9%\\r58.1%\\r58.3%\\r58.4%\\r58.5%\\r58.7%\\r58.9%\\r59.0%\\r59.3%\\r59.4%\\r59.5%\\r59.7%\\r59.9%\\r60.1%\\r60.2%\\r60.4%\\r60.5%\\r60.7%\\r60.8%\\r60.9%\\r61.1%\\r61.2%\\r61.3%\\r61.5%\\r61.6%\\r61.8%\\r61.9%\\r62.0%\\r62.1%\\r62.2%\\r62.4%\\r62.5%\\r62.6%\\r62.8%\\r62.9%\\r63.1%\\r63.2%\\r63.4%\\r63.5%\\r63.7%\\r63.9%\\r64.0%\\r64.2%\\r64.4%\\r64.6%\\r64.8%\\r64.9%\\r65.0%\\r65.2%\\r65.3%\\r65.4%\\r65.5%\\r65.7%\\r65.9%\\r66.1%\\r66.2%\\r66.4%\\r66.5%\\r66.6%\\r66.7%\\r67.0%\\r67.1%\\r67.3%\\r67.4%\\r67.5%\\r67.7%\\r67.8%\\r68.0%\\r68.1%\\r68.3%\\r68.6%\\r68.8%\\r68.9%\\r69.2%\\r69.4%\\r69.5%\\r69.8%\\r69.9%\\r70.1%\\r70.3%\\r70.4%\\r70.5%\\r70.6%\\r70.8%\\r71.1%\\r71.3%\\r71.4%\\r71.6%\\r71.7%\\r71.8%\\r72.0%\\r72.1%\\r72.3%\\r72.4%\\r72.6%\\r72.7%\\r72.9%\\r73.0%\\r73.2%\\r73.3%\\r73.5%\\r73.6%\\r73.7%\\r73.9%\\r74.0%\\r74.2%\\r74.3%\\r74.5%\\r74.7%\\r74.9%\\r75.1%\\r75.3%\\r75.5%\\r75.6%\\r75.7%\\r75.9%\\r76.1%\\r76.2%\\r76.4%\\r76.5%\\r76.6%\\r76.7%\\r76.9%\\r77.0%\\r77.1%\\r77.3%\\r77.5%\\r77.7%\\r77.8%\\r78.1%\\r78.2%\\r78.4%\\r78.6%\\r78.7%\\r78.8%\\r79.0%\\r79.1%\\r79.3%\\r79.4%\\r79.6%\\r79.8%\\r79.9%\\r80.0%\\r80.2%\\r80.3%\\r80.4%\\r80.6%\\r80.7%\\r80.8%\\r80.9%\\r81.1%\\r81.2%\\r81.4%\\r81.5%\\r81.6%\\r81.7%\\r81.9%\\r82.0%\\r82.1%\\r82.2%\\r82.3%\\r82.5%\\r82.6%\\r82.7%\\r82.8%\\r82.9%\\r83.1%\\r83.2%\\r83.3%\\r83.4%\\r83.5%\\r83.7%\\r83.8%\\r83.9%\\r84.0%\\r84.1%\\r84.2%\\r84.3%\\r84.5%\\r84.7%\\r84.8%\\r84.9%\\r85.1%\\r85.2%\\r85.3%\\r85.5%\\r85.6%\\r85.7%\\r85.8%\\r86.0%\\r86.2%\\r86.4%\\r86.5%\\r86.7%\\r86.8%\\r86.9%\\r87.1%\\r87.2%\\r87.4%\\r87.5%\\r87.6%\\r87.7%\\r87.9%\\r88.1%\\r88.2%\\r88.3%\\r88.5%\\r88.6%\\r88.7%\\r88.8%\\r89.0%\\r89.2%\\r89.3%\\r89.4%\\r89.5%\\r89.6%\\r89.8%\\r89.9%\\r90.1%\\r90.2%\\r90.3%\\r90.4%\\r90.5%\\r90.6%\\r90.8%\\r90.9%\\r91.0%\\r91.1%\\r91.2%\\r91.3%\\r91.5%\\r91.6%\\r91.7%\\r91.9%\\r92.0%\\r92.1%\\r92.3%\\r92.4%\\r92.6%\\r92.7%\\r92.8%\\r92.9%\\r93.1%\\r93.2%\\r93.4%\\r93.5%\\r93.6%\\r93.7%\\r93.9%\\r94.0%\\r94.1%\\r94.3%\\r94.4%\\r94.5%\\r94.6%\\r94.8%\\r94.9%\\r95.0%\\r95.1%\\r95.3%\\r95.4%\\r95.5%\\r95.7%\\r95.8%\\r95.9%\\r96.0%\\r96.1%\\r96.3%\\r96.4%\\r96.6%\\r96.7%\\r96.8%\\r97.0%\\r97.1%\\r97.3%\\r97.4%\\r97.5%\\r97.7%\\r97.8%\\r97.9%\\r98.0%\\r98.1%\\r98.2%\\r98.4%\\r98.5%\\r98.7%\\r98.9%\\r99.0%\\r99.1%\\r99.4%\\r99.8%\\r99.9%\\r..........        0  compared        295  clusters',\n",
       " '',\n",
       " '6296 compared\\t295 clustered',\n",
       " 'writing non-redundant sequences from db2',\n",
       " 'writing clustering information',\n",
       " 'program completed !',\n",
       " '',\n",
       " 'Total CPU time 9788.23',\n",
       " '']"
      ]
     },
     "execution_count": 84,
     "metadata": {},
     "output_type": "execute_result"
    }
   ],
   "source": [
    "out.decode().split('\\n')"
   ]
  },
  {
   "cell_type": "code",
   "execution_count": 47,
   "metadata": {},
   "outputs": [],
   "source": [
    "bin2id = [[] for _ in range(len(cnt)+1)]\n",
    "for ncenst, seq in nc2seq.items():\n",
    "    if ncenst.split('_')[0] in enst_in_ribo:\n",
    "        continue\n",
    "    bin2id[np.searchsorted(len_bin, len(seq))-1].append(ncenst)\n",
    "\n",
    "keep_ids = []\n",
    "SEED = 1234\n",
    "np.random.seed(SEED)\n",
    "\n",
    "for idx,ids in enumerate(bin2id[:-1]):\n",
    "    sample_cnt = cnt[idx]\n",
    "    keep_ids.extend(list(np.random.choice(ids, sample_cnt)))"
   ]
  },
  {
   "cell_type": "code",
   "execution_count": 49,
   "metadata": {},
   "outputs": [],
   "source": [
    "stops = set([\"TAA\",\"TAG\",\"TGA\"])\n",
    "with open('ncRNA_Transcript.fasta','w') as w:\n",
    "    with open(\"ncRNA_5utr_d1.fasta\",\"w\") as f1:\n",
    "        with open(\"ncRNA_orf.fasta\",\"w\") as f2:\n",
    "            with open(\"ncRNA_d50.fasta\",\"w\") as f3:\n",
    "                for orf_id in keep_ids:\n",
    "                    tid = ('_').join(orf_id.split('_')[:-1])\n",
    "                    start = int(orf_id.split('_')[-1])\n",
    "                    rnaseq = id2all[tid]['rna']\n",
    "                    w.write('>'+tid+'\\n'+rnaseq+'\\n')\n",
    "                    d4 = rnaseq[:start+4]\n",
    "                    f1.write('>'+tid+f'_{str(start)}\\n'+d4+'\\n')\n",
    "                    d50 = rnaseq[start+3:start+53]\n",
    "                    f3.write('>'+tid+f'_{str(start)}\\n'+d50+'\\n')\n",
    "                    for i in range(start+3, len(rnaseq), 3):\n",
    "                        if i+3 > len(rnaseq): break\n",
    "                        codon = rnaseq[i:i+3]\n",
    "                        if codon in stops:\n",
    "                            break\n",
    "                    orf = rnaseq[start:i+3]\n",
    "                    f2.write('>'+tid+f'_{str(start)}\\n'+orf+'\\n')\n",
    "    "
   ]
  },
  {
   "cell_type": "code",
   "execution_count": 48,
   "metadata": {},
   "outputs": [
    {
     "data": {
      "text/plain": [
       "2470546"
      ]
     },
     "execution_count": 48,
     "metadata": {},
     "output_type": "execute_result"
    }
   ],
   "source": [
    "sum(len(i) for i in bin2id)"
   ]
  }
 ],
 "metadata": {
  "kernelspec": {
   "display_name": "base",
   "language": "python",
   "name": "python3"
  },
  "language_info": {
   "codemirror_mode": {
    "name": "ipython",
    "version": 3
   },
   "file_extension": ".py",
   "mimetype": "text/x-python",
   "name": "python",
   "nbconvert_exporter": "python",
   "pygments_lexer": "ipython3",
   "version": "3.9.16"
  }
 },
 "nbformat": 4,
 "nbformat_minor": 2
}
