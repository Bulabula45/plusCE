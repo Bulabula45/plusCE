{
 "cells": [
  {
   "cell_type": "code",
   "execution_count": 4,
   "metadata": {},
   "outputs": [],
   "source": [
    "from Bio import SeqIO\n",
    "import pandas as pd\n",
    "from Bio.Seq import Seq\n",
    "codons_table = {\n",
    "        'TTT': 'F', 'CTT': 'L', 'ATT': 'I', 'GTT': 'V',\n",
    "        'TTC': 'F', 'CTC': 'L', 'ATC': 'I', 'GTC': 'V',\n",
    "        'TTA': 'L', 'CTA': 'L', 'ATA': 'I', 'GTA': 'V',\n",
    "        'TTG': 'L', 'CTG': 'L', 'ATG': 'M', 'GTG': 'V',\n",
    "        'TCT': 'S', 'CCT': 'P', 'ACT': 'T', 'GCT': 'A',\n",
    "        'TCC': 'S', 'CCC': 'P', 'ACC': 'T', 'GCC': 'A',\n",
    "        'TCA': 'S', 'CCA': 'P', 'ACA': 'T', 'GCA': 'A',\n",
    "        'TCG': 'S', 'CCG': 'P', 'ACG': 'T', 'GCG': 'A',\n",
    "        'TAT': 'Y', 'CAT': 'H', 'AAT': 'N', 'GAT': 'D',\n",
    "        'TAC': 'Y', 'CAC': 'H', 'AAC': 'N', 'GAC': 'D',\n",
    "        'TAA': '*', 'CAA': 'Q', 'AAA': 'K', 'GAA': 'E',\n",
    "        'TAG': '*', 'CAG': 'Q', 'AAG': 'K', 'GAG': 'E',\n",
    "        'TGT': 'C', 'CGT': 'R', 'AGT': 'S', 'GGT': 'G',\n",
    "        'TGC': 'C', 'CGC': 'R', 'AGC': 'S', 'GGC': 'G',\n",
    "        'TGA': '*', 'CGA': 'R', 'AGA': 'R', 'GGA': 'G',\n",
    "        'TGG': 'W', 'CGG': 'R', 'AGG': 'R', 'GGG': 'G'\n",
    "    }\n",
    "\n",
    "stops = set([\"TAA\",\"TAG\",\"TGA\"])\n",
    "starts = set([\"TTG\", \"GTG\",\"CTG\", \"ATG\",])\n",
    "def translate(seq):\n",
    "    aaseq = \"\"\n",
    "    for i in range(0, len(seq), 3):\n",
    "        if i+3>len(seq):\n",
    "            continue\n",
    "        codon = seq[i:i+3]\n",
    "        if codon in starts and aaseq == \"\":\n",
    "            aaseq = codons_table[codon]\n",
    "            start = i\n",
    "            continue\n",
    "        if aaseq != \"\":\n",
    "            if codon in stops:\n",
    "                if len(aaseq) > 10:\n",
    "                    # yield aaseq+\"*\"\n",
    "                    yield start, i+3\n",
    "                aaseq = \"\"\n",
    "            else:\n",
    "                aaseq += codons_table[codon]"
   ]
  },
  {
   "cell_type": "markdown",
   "metadata": {},
   "source": [
    "## Ensembl ncRNA"
   ]
  },
  {
   "cell_type": "code",
   "execution_count": 2,
   "metadata": {},
   "outputs": [],
   "source": [
    "path_ensembl = \"/home/chensa/gb_data/data_for_analysis/ncRNA\"\n",
    "records = SeqIO.parse(f\"{path_ensembl}/Homo_sapiens.GRCh38.ncrna.fa\", \"fasta\")\n",
    "enst2seq = {}\n",
    "for rec in records:\n",
    "    id = str(rec.id).split('.')[0]\n",
    "    enst2seq[str(id)] = str(rec.seq)\n",
    "with open(f\"{path_ensembl}/Homo_sapiens.GRCh38.lncrna.fa\", 'w') as w:\n",
    "    for rec in records:\n",
    "        if \"gene_biotype:lncRNA\" in str(rec.description):\n",
    "            w.write(\">\"+str(rec.description)+\"\\n\")\n",
    "            w.write(str(rec.seq)+\"\\n\")\n",
    "# all_gene_types = []\n",
    "# for rec in records:\n",
    "#     gene_type = str(rec.description).split(\"gene_biotype:\")[1].split()[0]\n",
    "#     all_gene_types.append(gene_type)\n"
   ]
  },
  {
   "cell_type": "code",
   "execution_count": 5,
   "metadata": {},
   "outputs": [],
   "source": [
    "id2all = {}\n",
    "records = SeqIO.parse(f\"{path_ensembl}/Homo_sapiens.GRCh38.lncrna.fa\", \"fasta\")\n",
    "enst2seq = {}\n",
    "for rec in records:\n",
    "    id = str(rec.id).split('.')[0]\n",
    "    enst2seq[str(id)] = str(rec.seq)\n",
    "for enst, rnaseq1 in enst2seq.items():\n",
    "    if 'N' in rnaseq1:continue\n",
    "    rnaseq1_r = str(Seq(rnaseq1).reverse_complement())\n",
    "    id2all[enst] = {\"rna\":rnaseq1, \"orf\":[]}\n",
    "    id2all[enst+'_r'] = {\"rna\":rnaseq1_r, \"orf\":[]}\n",
    "    rnaseq2 = rnaseq1[1:]\n",
    "    rnaseq3 = rnaseq2[1:]\n",
    "    for start,end in translate(rnaseq1):\n",
    "        id2all[enst]['orf'].append((start,end))\n",
    "    for start,end in translate(rnaseq2):\n",
    "        id2all[enst]['orf'].append((start+1,end+1))\n",
    "    for start,end in translate(rnaseq3):\n",
    "        id2all[enst]['orf'].append((start+2,end+2))\n",
    "    rnaseq2_r = rnaseq1_r[1:]\n",
    "    rnaseq3_r = rnaseq2_r[1:]\n",
    "    for start,end in translate(rnaseq1_r):\n",
    "        id2all[enst+'_r']['orf'].append((start,end))\n",
    "    for start,end in translate(rnaseq2_r):\n",
    "        id2all[enst+'_r']['orf'].append((start+1,end+1))\n",
    "    for start,end in translate(rnaseq3_r):\n",
    "        id2all[enst+'_r']['orf'].append((start+2,end+2))"
   ]
  },
  {
   "cell_type": "code",
   "execution_count": 6,
   "metadata": {},
   "outputs": [],
   "source": [
    "import pickle\n",
    "pickle.dump(id2all, open(f\"{path_ensembl}/id2all.pkl\", 'wb'))"
   ]
  },
  {
   "cell_type": "markdown",
   "metadata": {},
   "source": [
    "## Smprot"
   ]
  },
  {
   "cell_type": "code",
   "execution_count": 3,
   "metadata": {},
   "outputs": [],
   "source": [
    "path_smprot = \"/home/chensa/gb_data/data_for_analysis/smprot/\"\n",
    "df = pd.read_csv(f\"{path_smprot}SmProt2_highConfidenceSet.txt\", sep='\\t')\n",
    "df = df[df['Species']=='human']\n",
    "RNAseqs = df['RNAseq'].tolist();AAseqs = df['AAseq'].tolist()\n",
    "RNAseqs = [i.upper() for i in RNAseqs if i==i]; AAseqs = [i.upper() for i in AAseqs if i==i]\n",
    "AAseqs = set(AAseqs)"
   ]
  },
  {
   "cell_type": "code",
   "execution_count": null,
   "metadata": {},
   "outputs": [],
   "source": [
    "! grep lncRNA SmProt2_human_RiboResults.txt > lncRNA.SmProt2_human_RiboResults.txt"
   ]
  },
  {
   "cell_type": "code",
   "execution_count": 4,
   "metadata": {},
   "outputs": [],
   "source": [
    "records = SeqIO.parse(f\"{path_smprot}/SmProt2_human_Ribo.fa\", \"fasta\")\n",
    "highcd = set()\n",
    "with open(f\"{path_smprot}/SmProt2_human_Ribo_highConfidence.fa\", 'w') as w:\n",
    "    for rec in records:\n",
    "        seq = str(rec.seq)\n",
    "        if seq in AAseqs:\n",
    "            w.write(\">\"+str(rec.id)+\"\\n\"+seq+\"\\n\")\n",
    "            highcd.add(str(rec.id))"
   ]
  },
  {
   "cell_type": "code",
   "execution_count": 5,
   "metadata": {},
   "outputs": [],
   "source": [
    "df = pd.read_csv(f\"{path_smprot}/lncRNA.SmProt2_human_RiboResults.txt\", sep='\\t')\n",
    "orf_lncs = df['smPEP_ID'].tolist()\n",
    "orf_lncs = ['SPROHSA'+str(i) for i in orf_lncs]\n",
    "orf_lncs = list(set(orf_lncs))"
   ]
  },
  {
   "cell_type": "code",
   "execution_count": 6,
   "metadata": {},
   "outputs": [
    {
     "name": "stdout",
     "output_type": "stream",
     "text": [
      "45\n"
     ]
    }
   ],
   "source": [
    "orf_lnc_with_highcd = []\n",
    "for i in orf_lncs:\n",
    "    if i in highcd:\n",
    "        orf_lnc_with_highcd.append(i)\n",
    "orf_lnc_with_highcd = set(orf_lnc_with_highcd)\n",
    "print(len(orf_lnc_with_highcd))\n",
    "\n",
    "id2aaseq = {}\n",
    "records = SeqIO.parse(f\"{path_smprot}/SmProt2_human_Ribo_highConfidence.fa\", \"fasta\")\n",
    "for rec in records:\n",
    "    id = str(rec.id)\n",
    "    if id in orf_lnc_with_highcd:\n",
    "        id2aaseq[id] = str(rec.seq)"
   ]
  },
  {
   "cell_type": "code",
   "execution_count": 7,
   "metadata": {},
   "outputs": [],
   "source": [
    "df = pd.read_csv(f\"{path_smprot}/lncRNA.SmProt2_human_RiboResults.txt\", sep='\\t')\n",
    "id2info = {}\n",
    "for pepid, geneid, tid in zip(df['smPEP_ID'], df['GeneID'], df['TranscriptID']):\n",
    "    id = 'SPROHSA'+str(pepid)\n",
    "    if id in orf_lnc_with_highcd:\n",
    "        if id not in id2info:\n",
    "            id2info[id] = []\n",
    "        id2info[id].append((geneid, tid))\n"
   ]
  },
  {
   "cell_type": "code",
   "execution_count": 8,
   "metadata": {},
   "outputs": [],
   "source": [
    "with open(f\"{path_smprot}/lncrna_aa_with_highcd.fa\", 'w') as w:\n",
    "    for k,v in id2aaseq.items():\n",
    "        w.write(\">\"+k+\"\\n\"+v+\"\\n\")"
   ]
  },
  {
   "cell_type": "code",
   "execution_count": 9,
   "metadata": {},
   "outputs": [],
   "source": [
    "records = SeqIO.parse(f\"{path_smprot}/lncrna_aa_with_highcd.dedup.fa\", \"fasta\")\n",
    "keep_ids = [str(rec.id) for rec in records]\n"
   ]
  },
  {
   "cell_type": "code",
   "execution_count": 13,
   "metadata": {},
   "outputs": [
    {
     "name": "stderr",
     "output_type": "stream",
     "text": [
      "/home/chensa/miniconda3/lib/python3.9/site-packages/Bio/Seq.py:2804: BiopythonWarning: Partial codon, len(sequence) not a multiple of three. Explicitly trim the sequence or add trailing N before translation. This may become an error in future.\n",
      "  warnings.warn(\n"
     ]
    }
   ],
   "source": [
    "id2all = {}\n",
    "keep_ids = id2info.keys()\n",
    "for i in keep_ids:\n",
    "    enst = id2info[i][0][1].split('.')[0]\n",
    "    rnaseq = enst2seq[enst]\n",
    "    rna1aa = Seq(rnaseq).translate()\n",
    "    rna2aa = Seq(rnaseq[1:]).translate()\n",
    "    rna3aa = Seq(rnaseq[2:]).translate()\n",
    "    seq = id2aaseq[i]\n",
    "    idx1 = rna1aa.find(seq)\n",
    "    idx2 = rna2aa.find(seq)\n",
    "    idx3 = rna3aa.find(seq)\n",
    "    if idx1 > 0:\n",
    "        start = idx1*3\n",
    "        orf = rnaseq[start:start+len(seq)*3]\n",
    "        id2all[i] = {'rna':rnaseq, 'aa':orf, 'start':idx1*3}\n",
    "    elif idx2 > 0:\n",
    "        start = idx2*3+1\n",
    "        orf = rnaseq[start:start+len(seq)*3]\n",
    "        id2all[i] = {'rna':rnaseq, 'aa':orf, 'start':idx2*3+1}\n",
    "    elif idx3 > 0:\n",
    "        start = idx3*3+2\n",
    "        orf = rnaseq[start:start+len(seq)*3]\n",
    "        id2all[i] = {'rna':rnaseq, 'aa':orf, 'start':idx3*3+2}\n",
    "    else:\n",
    "        print(i,\"error\")\n"
   ]
  },
  {
   "cell_type": "code",
   "execution_count": 15,
   "metadata": {},
   "outputs": [],
   "source": [
    "import pickle\n",
    "pickle.dump(id2all, open(f\"{path_smprot}/smprot_id2all.pkl\", 'wb'))"
   ]
  },
  {
   "cell_type": "markdown",
   "metadata": {},
   "source": [
    "## SPENCER"
   ]
  },
  {
   "cell_type": "code",
   "execution_count": 121,
   "metadata": {},
   "outputs": [],
   "source": [
    "path_spencer = \"/home/chensa/gb_data/data_for_analysis/spencer/\"\n",
    "df = pd.read_csv(f\"{path_spencer}SPENCER_Peptide_info.txt\", sep='\\t')\n",
    "\n",
    "tid2aaseqs = {}\n",
    "for aaseq, tids in zip(df['sequence'], df['associated_transcript_id']):\n",
    "    tids = tids.split(',')\n",
    "    for tid in tids:\n",
    "        if tid not in tid2aaseqs:\n",
    "            tid2aaseqs[tid] = []\n",
    "        tid2aaseqs[tid].append(aaseq)\n",
    "\n",
    "tid2rnaseq = {}\n",
    "records = SeqIO.parse(f\"{path_spencer}SPENCER_Transcript_sequence.fasta\", \"fasta\")\n",
    "for rec in records:\n",
    "    tid = str(rec.id).split('.')[0]\n",
    "    tid2rnaseq[tid] = str(rec.seq)"
   ]
  },
  {
   "cell_type": "code",
   "execution_count": 122,
   "metadata": {},
   "outputs": [
    {
     "name": "stdout",
     "output_type": "stream",
     "text": [
      "LLSSRSGPLPAAPAPCSSILFSSPLWARMWSWN*\n",
      "LLHSGLSGPIRAAASR*\n",
      "VMAPPPLPLPLSLVTHNPKSQPRTPNPQYLKGFCFFTNDGFVGFF*\n"
     ]
    }
   ],
   "source": [
    "with open(f\"{path_spencer}SPENCER_Transcript_sequence_prediced_orfs.fasta\",'w') as w:\n",
    "    for tid, rnaseq in tid2rnaseq.items():\n",
    "        for i in translate(rnaseq):\n",
    "            print(i)\n",
    "        break"
   ]
  },
  {
   "cell_type": "code",
   "execution_count": 123,
   "metadata": {},
   "outputs": [],
   "source": [
    "tid2orfid = {}\n",
    "df = pd.read_csv(f\"{path_spencer}SPENCER_Transcript_info.txt\", sep='\\t')\n",
    "for tid, orfids in zip(df['transcript_id'],df['associated_orf_id']):\n",
    "    orfids = orfids.split(',')\n",
    "    for orfid in orfids:\n",
    "        if tid not in tid2orfid:\n",
    "            tid2orfid[tid] = []\n",
    "        tid2orfid[tid].append(orfid)"
   ]
  },
  {
   "cell_type": "code",
   "execution_count": 124,
   "metadata": {},
   "outputs": [],
   "source": [
    "orfid2orfseq = {}\n",
    "records = SeqIO.parse(f\"{path_spencer}SPENCER_ORF_sequence.fasta\", \"fasta\")\n",
    "for rec in records:\n",
    "    orfid = str(rec.id)\n",
    "    orfid2orfseq[orfid] = str(rec.seq)"
   ]
  },
  {
   "cell_type": "code",
   "execution_count": 125,
   "metadata": {},
   "outputs": [
    {
     "data": {
      "text/plain": [
       "6842"
      ]
     },
     "execution_count": 125,
     "metadata": {},
     "output_type": "execute_result"
    }
   ],
   "source": [
    "len(tid2orfid)"
   ]
  },
  {
   "cell_type": "code",
   "execution_count": 126,
   "metadata": {},
   "outputs": [],
   "source": [
    "tid2all = {}\n",
    "for tid, orfids in tid2orfid.items():\n",
    "    rnaseq = tid2rnaseq[tid]\n",
    "    flag = False\n",
    "    for orfid in orfids:\n",
    "        if orfid not in orfid2orfseq:\n",
    "            continue\n",
    "        orfseq = orfid2orfseq[orfid]\n",
    "        if orfseq in rnaseq:\n",
    "            idx = rnaseq.find(orfseq)\n",
    "            if tid not in tid2all:\n",
    "                tid2all[tid] = {'rna':rnaseq, 'aa':[], 'start':[]}\n",
    "            tid2all[tid]['aa'].append(orfseq)\n",
    "            tid2all[tid]['start'].append(idx)\n",
    "            flag = True\n",
    "    if not flag:\n",
    "        print(tid)"
   ]
  },
  {
   "cell_type": "code",
   "execution_count": 127,
   "metadata": {},
   "outputs": [],
   "source": [
    "import pickle\n",
    "pickle.dump(tid2all, open(f\"{path_spencer}/SPENCER_id2all.pkl\", 'wb'))"
   ]
  },
  {
   "cell_type": "markdown",
   "metadata": {},
   "source": [
    "## AHIGH"
   ]
  },
  {
   "cell_type": "markdown",
   "metadata": {},
   "source": [
    "meta.csv comes from 1-s2.0-S1097276522006062-mmc3.xls"
   ]
  },
  {
   "cell_type": "code",
   "execution_count": null,
   "metadata": {},
   "outputs": [],
   "source": [
    "df = pd.read_csv(\"meta.csv\")\n",
    "df_iORF_id = [_.split('_')[0].split('.')[0] for _ in df['iORF_id'].tolist()]\n",
    "\n",
    "df = pd.read_csv(\"FANTOM_CAT.lv1_raw.bed\", sep='\\t', header=None)\n",
    "with open(\"fantom_associated_gene.bed\", 'w') as w:\n",
    "    for i in range(len(df)):\n",
    "        if df.iloc[i,3].split('|')[1].split('.')[0] in df_iORF_id:\n",
    "            w.write('\\t'.join([str(_) for _ in df.iloc[i,:]])+'\\n')\n"
   ]
  },
  {
   "cell_type": "code",
   "execution_count": null,
   "metadata": {},
   "outputs": [],
   "source": [
    "!bedtools getfasta -fi hg38.fa /home/chensa/data_for_analysis/ahigh/fantom_associated_gene.bed -bed /home/chensa/data_for_analysis/ahigh/fantom_associated_gene.bed -s -name -fo /home/chensa/data_for_analysis/ahigh/fantom_associated_gene.fa"
   ]
  },
  {
   "cell_type": "code",
   "execution_count": 95,
   "metadata": {},
   "outputs": [],
   "source": [
    "path_ahigh = \"/home/chensa/gb_data/data_for_analysis/ahigh/\"\n",
    "id2seq = {}\n",
    "records = SeqIO.parse(f\"{path_ahigh}fantom_associated_gene.fa\", \"fasta\")\n",
    "for rec in records:\n",
    "    id = str(rec.id).split('|')[1].split('.')[0]\n",
    "    id2seq[id] = str(rec.seq).upper()\n",
    "records = SeqIO.parse(f\"{path_ahigh}gencode.v46.transcripts.oneline.fa\", \"fasta\")\n",
    "for rec in records:\n",
    "    id = str(rec.id).split('.')[0]\n",
    "    id2seq[id] = str(rec.seq).upper()"
   ]
  },
  {
   "cell_type": "code",
   "execution_count": 64,
   "metadata": {},
   "outputs": [],
   "source": [
    "df = pd.read_csv(f\"{path_ahigh}meta.csv\")\n",
    "nc_list = []\n",
    "for iORF_id,orf_type in zip(df['iORF_id'], df['ORF type']):\n",
    "    if orf_type=='ncORF':\n",
    "        nc_list.append(iORF_id)"
   ]
  },
  {
   "cell_type": "code",
   "execution_count": 144,
   "metadata": {},
   "outputs": [],
   "source": [
    "df = pd.read_csv(f\"{path_ahigh}sequence.csv\")\n",
    "id2all = {}\n",
    "not_in_file = []; notin_dict = {}\n",
    "allids = []\n",
    "top3 = []\n",
    "for orfid, seq, strand in zip(df['iORF_id.Genomic_coordinates'], df['Sequence'], df['Strand']):\n",
    "    orfid = orfid.split(';')[0]\n",
    "    if orfid in nc_list:\n",
    "        id = orfid.split('_')[0]\n",
    "        if 'T0' in id: id = id.split('.')[0]\n",
    "        allids.append(id)\n",
    "        if id in id2seq:\n",
    "            rnaseq = id2seq[id]\n",
    "            if strand == '-':\n",
    "                seq = str(Seq(seq).reverse_complement())\n",
    "            top3.append(seq[:3])\n",
    "            if seq not in rnaseq:\n",
    "                notin_dict[id] = seq\n",
    "            else:\n",
    "                idx = rnaseq.find(seq)\n",
    "                if id not in id2all:\n",
    "                    id2all[id] = {'rna':rnaseq, 'aa':[], 'start':[]}\n",
    "                id2all[id]['aa'].append(seq)\n",
    "                id2all[id]['start'].append(idx)\n",
    "        else:\n",
    "            not_in_file.append(id)\n",
    "            if id in notin_dict:print(\"rep \"+id)\n",
    "            notin_dict[id] = seq\n"
   ]
  },
  {
   "cell_type": "code",
   "execution_count": 89,
   "metadata": {},
   "outputs": [],
   "source": [
    "records = SeqIO.parse(f\"{path_ahigh}gencode.v46.transcripts.fa\", \"fasta\")\n",
    "with open(f\"{path_ahigh}gencode.v46.transcripts.oneline.fa\", 'w') as w:\n",
    "    for rec in records:\n",
    "        w.write(\">\"+str(rec.id)+\"\\n\"+str(rec.seq)+\"\\n\")"
   ]
  },
  {
   "cell_type": "code",
   "execution_count": 147,
   "metadata": {},
   "outputs": [],
   "source": [
    "import subprocess\n",
    "notin_dict2 = {}\n",
    "for id,seq in notin_dict.items():\n",
    "    cmd = f\"grep -n {seq} {path_ahigh}gencode.v46.transcripts.oneline.fa\"\n",
    "    result = subprocess.run(cmd, shell=True, stdout=subprocess.PIPE)\n",
    "    if result.stdout:\n",
    "        line = str(int(result.stdout.decode().split('\\n')[0].split(':')[0])-1)\n",
    "        cmd = f\"sed -n '{line}p' {path_ahigh}gencode.v46.transcripts.oneline.fa\"\n",
    "        result = subprocess.run(cmd, shell=True, stdout=subprocess.PIPE)\n",
    "        info = result.stdout.decode()\n",
    "        # print(id, info)\n",
    "        enstid = info[1:].split('|')[0].split('.')[0]\n",
    "        rnaseq = id2seq[enstid]\n",
    "        if id not in id2all:\n",
    "            id2all[id] = {'rna':rnaseq, 'aa':[], 'start':[]}\n",
    "        idx = rnaseq.find(seq)\n",
    "        id2all[id]['aa'].append(seq)\n",
    "        id2all[id]['start'].append(idx)\n",
    "    else:\n",
    "        notin_dict2[id] = seq"
   ]
  },
  {
   "cell_type": "code",
   "execution_count": 150,
   "metadata": {},
   "outputs": [],
   "source": [
    "notin_dict3 = {}\n",
    "for id, seq in notin_dict2.items():\n",
    "    r_seq = str(Seq(seq).reverse_complement())\n",
    "    cmd = f\"grep -n {r_seq} {path_ahigh}gencode.v46.transcripts.oneline.fa\"\n",
    "    result = subprocess.run(cmd, shell=True, stdout=subprocess.PIPE)\n",
    "    if result.stdout:\n",
    "        line = str(int(result.stdout.decode().split('\\n')[0].split(':')[0])-1)\n",
    "        cmd = f\"sed -n '{line}p' {path_ahigh}gencode.v46.transcripts.oneline.fa\"\n",
    "        result = subprocess.run(cmd, shell=True, stdout=subprocess.PIPE)\n",
    "        info = result.stdout.decode()\n",
    "        # print(id, info)\n",
    "        enstid = info[1:].split('|')[0].split('.')[0]\n",
    "        rnaseq = id2seq[enstid]\n",
    "        rnaseq_r = str(Seq(rnaseq).reverse_complement())\n",
    "        if id not in id2all:\n",
    "            id2all[id] = {'rna':rnaseq_r, 'aa':[], 'start':[]}\n",
    "        idx = rnaseq_r.find(seq)\n",
    "        id2all[id]['aa'].append(seq)\n",
    "        id2all[id]['start'].append(idx)\n",
    "    else:\n",
    "        notin_dict3[id] = seq"
   ]
  },
  {
   "cell_type": "code",
   "execution_count": 168,
   "metadata": {},
   "outputs": [
    {
     "data": {
      "text/plain": [
       "{'ENST00000417576': 'CTGGCCGTTACTAACTTTCTGTTGTCAAGACCCAGGGGTACGTGCGAAGGATAG',\n",
       " 'ENST00000488429': 'ATAGACAAAGAAAAAGGAAGAGAGGAGACCAAAGGAAGGAAAATGACACAACAGAGCTTCGGCTATGGGACTGGTTTAATCCAAACCCAGAGGTTGTGA',\n",
       " 'ENST00000524793': 'TTGGAGTTCTTATAA',\n",
       " 'ENST00000551203': 'CTGGACCCAGAACTCTGGGATCAGTTTGACAACTTAGAAAATCGATAG',\n",
       " 'ENST00000554945': 'ATGCTGCGGCCGCTTCGCACTGTGGCTCCTGCCGACCGCCAGGCGCTGTTACAGTGGATGCGAACTAACCGGTAA',\n",
       " 'ENST00000577841': 'ATTGTATCCCCCTCCAATTCAGTTATGGTGCTGCTTCAGAAAGAAAAGAGCAAAAACAACAGACCTTCATTCAGCTTAGGAACATAA',\n",
       " 'ENST00000608817': 'AGGCAGAACAGGTGGAGAGGTATGAAGAACGAGGAACACTGCCCGGGGAGTTTCTTCCTCTGCAAAATAAGGGAGTGTGTACTGAATTACCGTTTCCAGCTCCAACATCCAGGATTTCAGCACTACCTGCAGAGTAGTGGGAGGAGAGATAGAGGAAGAAGTGAAGATAAGAAACCACTCGAAGCCGGTGTCTGGTGCTGGGACCGTGGTGGCTGGGACGGCAGCAGTCGTGCTGTCCATCTGCTCTTCCGAGGGGTGGCACATCCTAGCCTCTATCTTTTCCCCAGAGAAGATCCCCCTCGTCTGCTCTTCCCCCGTCTCAGCCTTTTAGTGTGTGAACAGTTCTGGTGTTACTCAGCAACGCTTTTGTTAGCGCCTTTACCAGCAAGTACTTGTTAA'}"
      ]
     },
     "execution_count": 168,
     "metadata": {},
     "output_type": "execute_result"
    }
   ],
   "source": [
    "seq = \"AGGCAGAACAGGTGGAGAGGTATGAAGAACGAGGAACACTGCCCGGGGAGTTTCTTCCTCTGCAAAATAAGGGAGTGTGTACTGAATTACCGTTTCCAGCTCCAACATCCAGGATTTCAGCACTACCTGCAGAGTAGTGGGAGGAGAGATAGAGGAAGAAGTGAAGATAAGAAACCACTCGAAGCCGGTGTCTGGTGCTGGGACCGTGGTGGCTGGGACGGCAGCAGTCGTGCTGTCCATCTGCTCTTCCGAGGGGTGGCACATCCTAGCCTCTATCTTTTCCCCAGAGAAGATCCCCCTCGTCTGCTCTTCCCCCGTCTCAGCCTTTTAGTGTGTGAACAGTTCTGGTGTTACTCAGCAACGCTTTTGTTAGCGCCTTTACCAGCAAGTACTTGTTAA\"\n",
    "seq_r = str(Seq(seq).reverse_complement())\n",
    "notin_dict3\n",
    "# 前四个、ENST00000577841没有比对到转录本，ENST0000055494前面多出来一段\"ATGCTGC\",ENST00000608817前面多出来一段“AG”"
   ]
  },
  {
   "cell_type": "code",
   "execution_count": 171,
   "metadata": {},
   "outputs": [],
   "source": [
    "pickle.dump(id2all, open(f\"{path_ahigh}/ahigh_id2all.pkl\", 'wb'))"
   ]
  },
  {
   "cell_type": "markdown",
   "metadata": {},
   "source": [
    "## mRNA"
   ]
  },
  {
   "cell_type": "code",
   "execution_count": 16,
   "metadata": {},
   "outputs": [],
   "source": [
    "path_mRNA = \"/home/chensa/gb_data/data_for_analysis/mRNA/\"\n",
    "id2seq = {}\n",
    "records = SeqIO.parse(f\"{path_mRNA}MANE.GRCh38.v1.3.ensembl_rna.fna\", \"fasta\")\n",
    "for rec in records:\n",
    "    id = str(rec.id).split('.')[0]\n",
    "    id2seq[id] = str(rec.seq).upper()"
   ]
  },
  {
   "cell_type": "code",
   "execution_count": null,
   "metadata": {},
   "outputs": [],
   "source": [
    "!grep 'five_prime_UTR' \"{path_mRNA}MANE.GRCh38.v1.3.ensembl_genomic.gff\" > \"{path_mRNA}five_prime_UTR.MANE.GRCh38.v1.3.ensembl_genomic.gff\""
   ]
  },
  {
   "cell_type": "code",
   "execution_count": 18,
   "metadata": {},
   "outputs": [],
   "source": [
    "records = SeqIO.parse(f\"{path_mRNA}MANE.GRCh38.v1.3.ensembl_protein.faa\", \"fasta\")\n",
    "notin_dict = {}\n",
    "id2all = {}\n",
    "for rec in records:\n",
    "    tid = str(rec.description).split('transcript:')[1].split('.')[0]\n",
    "    rnaseq = id2seq[tid]\n",
    "    aaseq = str(rec.seq)\n",
    "    rnaseq1 = rnaseq\n",
    "    rnaseq2 = rnaseq[1:]\n",
    "    rnaseq3 = rnaseq[2:]\n",
    "    aaseq1 = Seq(rnaseq1).translate()\n",
    "    if aaseq in aaseq1:\n",
    "        idx = aaseq1.find(aaseq)\n",
    "        orf = rnaseq1[idx*3:idx*3+len(aaseq)*3]\n",
    "        id2all[tid] = {'rna':rnaseq1, 'aa':orf, 'start':idx*3}\n",
    "        continue\n",
    "    aaseq2 = Seq(rnaseq2).translate()\n",
    "    if aaseq in aaseq2:\n",
    "        idx = aaseq2.find(aaseq)\n",
    "        orf = rnaseq2[idx*3:idx*3+len(aaseq)*3]\n",
    "        id2all[tid] = {'rna':rnaseq1, 'aa':orf, 'start':idx*3+1}\n",
    "        continue\n",
    "    aaseq3 = Seq(rnaseq3).translate()\n",
    "    if aaseq in aaseq3:\n",
    "        idx = aaseq3.find(aaseq)\n",
    "        orf = rnaseq3[idx*3:idx*3+len(aaseq)*3]\n",
    "        id2all[tid] = {'rna':rnaseq1, 'aa':orf, 'start':idx*3+2}\n",
    "        continue\n",
    "    notin_dict[tid] = aaseq"
   ]
  },
  {
   "cell_type": "code",
   "execution_count": 178,
   "metadata": {},
   "outputs": [
    {
     "data": {
      "text/plain": [
       "{'ENST00000361547': 'MGRARPGQRGPPSPGPAAQPPAPPRRRARSLALLGALLAAAAAAAVRVCARHAEAQAAARQELALKTLGTDGLFLFSSLDTDGDMYISPEEFKPIAEKLTGSCSVTQTGVQWCSHSSLQPQLPWLNUSSCLSLLRSTPAASCEEEELPPDPSEETLTIEARFQPLLPETMTKSKDGFLGVSRLALSGLRNWTAAASPSAVFATRHFQPFLPPPGQELGEPWWIIPSELSMFTGYLSNNRFYPPPPKGKEVIIHRLLSMFHPRPFVKTRFAPQGAVACLTAISDFYYTVMFRIHAEFQLSEPPDFPFWFSPAQFTGHIILSKDATHVRDFRLFVPNHRSLNVDMEWLYGASESSNMEVDIGYIPQMELEATGPSVPSVILDEDGSMIDSHLPSGEPLQFVFEEIKWQQELSWEEAARRLEVAMYPFKKVSYLPFTEAFDRAKAENKLVHSILLWGALDDQSCUGSGRTLRETVLESSPILTLLNESFISTWSLVKELEELQNNQENSSHQKLAGLHLEKYSFPVEMMICLPNGTVVHHINANYFLDITSVKPEEIESNLFSFSSTFEDPSTATYMQFLKEGLRRGLPLLQP',\n",
       " 'ENST00000331835': 'MVAMAAGPSGCLVPAFGLRLLLATVLQAVSAFGAEFSSEACRELGFSSNLLCSSCDLLGQFNLLQLDPDCRGCCQEEAQFETKKLYAGAILEVCGUKLGRFPQVQAFVRSDKPKLFRGLQIKYVRGSDPVLKLLDDNGNIAEELSILKWNTDSVEEFLSEKLERI',\n",
       " 'ENST00000305943': 'MALPAGPAEAACALCQRAPREPVRADCGHRFCRACVVRFWAEEDGPFPCPECADDCWQRAVEPGRPPLSRRLLALEEAAAAPARDGPASEAALQLLCRADAGPLCAACRMAAGPEPPEWEPRWRKALRGKENKGSVEIMRKDLNDARDLHGQAESAAAVWKGHVMDRRKKALTDYKKLRAFFVEEEEHFLQEAEKEEGLPEDELADPTERFRSLLQAVSELEKKHRNLGLSMLLQ',\n",
       " 'ENST00000414423': 'MASLGEETLASASSSSDSDTGGASPPPRKKPRASAAEGVGEPGASAGRAGLSPPSSSSSSSSSSSSSVVVVVGLPPAAAPPAAAAVPHRSSGHSLVSGSIMQANGAGGGGGGGGGGGGGGGGGGGQGQTPELACLSAQNGESSPSSSSSAGDLAHANGLLPSAPSAASNNSNSLNVNNGVPGGAAAASSATVAAASATTAASSSLATPELGSSLKKKKRLSQSDEDVIRLIGQHLNGLGLNQTVDLLMQESGCRLEHPSATKFRNHVMEGDWDKAENDLNELKPLVHSPHAIVVRGALEISQTLLGIIVRMKFLLLQQKYLEYLEDGKVLEALQVLRCELTPLKYNTERIHVLSGYLMCSHAEDLRAKAEWEGKGTASRSKLLDKLQTYLPPSVMLPPRRLQTLLRQAVELQRDRCLYHNTKLDNNLDSVSLLIDHVCSRRQFPCYTQQILTEHCNEVWFCKFSNDGTKLATGSKDTTVIIWQVDPDTHLLKLLKTLEGHAYGVSYIAWSPDDNYLVACGPDDCSELWLWNVQTGELRTKMSQSHEDSLTSVAWNPDGKRFVTGGQRGQFYQCDLDGNLLDSWEGVRVQCLWCLSDGKTVLASDTHQRIRGYNFEDLTDRNIVQEDHPIMSFTISKNGRLALLNVATQGVHLWDLQDRVLVRKYQGVTQGFYTIHSCFGGHNEDFIASGSEDHKVYIWHKRSELPIAELTGHTRTVNCVSWNPQIPSMMASASDDGTVRIWGPAPFIDHQNIEEECSSMDS',\n",
       " 'ENST00000373471': 'MHPGSPSAWPPRARAALRLWLGCVCFALVQADSPSAPVNVTVRHLKANSAVVSWDVLEDEVVIGFAISQQKKDVRMLRFIQEVNTTTRSCALWDLEEDTEYIVHVQAISIQGQSPASEPVLFKTPREAEKMASKNKDEVTMKEMGRNQQLRTGEVLIIVVVLFMWAGVIALFCRQYDIIKDNEPNNNKEKTKSASETSTPEHQGGGLLRSKI',\n",
       " 'ENST00000361921': 'MGLPQPGLWLKRLWVLLEVAVHVVVGKVLLILFPDRVKRNILAMGEKTGMTRNPHFSHDNWIPTFFSTQYFWFVLKVRWQRLEDTTELGGLAPNCPVVRLSGQRCNIWEFMQGNRPLVLNFGSCTUPSFMFKFDQFKRLIEDFSSIADFLVIYIEEAHASDGWAFKNNMDIRNHQNLQDRLQAAHLLLARSPQCPVVVDTMQNQSSQLYAALPERLYIIQEGRILYKGKSGPWNYNPEEVRAVLEKLHS',\n",
       " 'ENST00000260585': 'MAGYEYVSPEQLAGFDKYKYSAVDTNPLSLYVMHPFWNTIVKVFPTWLAPNLITFSGFLLVVFNFLLMAYFDPDFYASAPGHKHVPDWVWIVVGILNFVAYTLDGVDGKQARRTNSSTPLGELFDHGLDSWSCVYFVVTVYSIFGRGSTGVSVFVLYLLLWVVLFSFILSHWEKYNTGILFLPWGYDISQVTISFVYIVTAVVGVEAWYEPFLFNFLYRDLFTAMIIGCALCVTLPMSLLNFFRSYKNNTLKLNSVYEAMVPLFSPCLLFILSTAWILWSPSDILELHPRVFYFMVGTAFANSTCQLIVCQMSSTRCPTLNWLLVPLFLVVLVVNLGVASYVESILLYTLTTAFTLAHIHYGVRVVKQLSSHFQIYPFSLRKPNSDULGMEEKNIGL',\n",
       " 'ENST00000644631': 'MAAQGESQSLEDLSNTSRPTSEVYKISFIFPNGDKYDGDCTRTSSGIYERNGIGIHTTPNGIVYTGSWKDDKMNGFGRLEHFSGAVYEGQFKDNMFHGLGTYTFPNGAKYTGNFNENRVEGEGEYTDIQGLEWSGNFHFTAAPDLKLKLHM',\n",
       " 'ENST00000392391': 'MAARVAAVRAAAWLLLGAATGLTRGPAAAFTAARSDAGIRAMCSEIILRQEVLKDGFHRDLLIKVKFGESIEDLHTCRLLIKQDIPAGLYVDPYELASLRERNITEAVMVSENFDIEAPNYLSKESEVLIYARRDSQCIDCFQAFLPVHCRYHRPHSEDGEASIVVNNPDLLMFCDQEFPILKCWAHSEVAAPCALENEDICQWNKMKYKSVYKNVILQVPVGLTVHTSLVCSVTLLITILCSTLILVAVFKYGHFSL',\n",
       " 'ENST00000524230': 'MERSPPQSPGPGKAGDAPNRRSGHVRGARVLSPPGRRARLSSPGPSRSSEAREELRRHLVGLIERSRVVIFSKSYCPHSTRVKELFSSLGVECNVLELDQVDDGARVQEVLSEITNQKTVPNIFVNKVHVGGCDQTFQAYQSGLLQKLLQEDLAYDYDLIIIGGGSGGLSCAKEAAILGKKVMVLDFVVPSPQGTSWGLGGTCVNVGCIPKKLMHQAALLGQALCDSRKFGWEYNQQVRHNWETMTKAIQNHISSLNWGYRLSLREKAVAYVNSYGEFVEHHKIKATNKKGQETYYTAAQFVIATGERPRYLGIQGDKEYCITSDDLFSLPYCPGKTLVVGASYVALECAGFLAGFGLDVTVMVRSILLRGFDQEMAEKVGSYMEQHGVKFLRKFIPVMVQQLEKGSPGKLKVLAKSTEGTETIEGVYNTVLLAIGRDSCTRKIGLEKIGVKINEKSGKIPVNDVEQTNVPYVYAVGDILEDKPELTPVAIQSGKLLAQRLFGASLEKCDYINVPTTVFTPLEYGCCGLSEEKAIEVYKKENLEIYHTLFWPLEWTVAGRENNTCYAKIICNKFDHDRVIGFHILGPNAGEVTQGFAAAMKCGLTKQLLDDTIGIHPTCGEVFTTLEITKSSGLDITQKGCUG',\n",
       " 'ENST00000393716': 'MEVRPKESWNHADFVHCEDTESVPGKPSVNADEEVGGPQICRVCGDKATGYHFNVMTCEGCKGFFRRAMKRNARLRCPFRKGACEITRKTRRQCQACRLRKCLESGMKKEMIMSDEAVEERRALIKRKKSERTGTQPLGVQGLTEEQRMMIRELMDAQMKTFDTTFSHFKNFRLPGVLSSGCELPESLQAPSREEAAKWSQVRKDLCSLKVSLQLRGEDGSVWNYKPPADSGGKEIFSLLPHMADMSTYMFKGIISFAKVISYFRDLPIEDQISLLKGAAFELCQLRFNTVFNAETGTWECGRLSYCLEDTAGGFQQLLLEPMLKFHYMLKKLQLHEEEYVLMQAISLFSPDRPGVLQHRVVDQLQEQFAITLKSYIECNRPQPAHRFLFLKIMAMLTELRSINAQHTQRLLRIQDIHPFATPLMQELFGITGS',\n",
       " 'ENST00000471696': 'MRLLLLLLVAASAMVRSEASANLGGVPSKRLKMQYATGPLLKFQICVSUGYRRVFEEYMRVISQRYPDIRIEGENYLPQPIYRHIASFLSVFKLVLIGLIIVGKDPFAFFGMQAPSIWQWGQENKVYACMMVFFLSNMIENQCMSTGAFEITLNDVPVWSKLESGHLPSMQQLVQILDNEMKLNVHMDSIPHHRS',\n",
       " 'ENST00000495461': 'MVYISNGQVLDSRSQSPWRLSLITDFFWGIAEFVVLFFKTLLQQDVKKRRSYGNSSDSRYDDGRGPPGNPPRRMGRINHLRGPSPPPMAGGUGR',\n",
       " 'ENST00000419783': 'MCAARLAAAAAAAQSVYAFSARPLAGGEPVSLGSLRGKVLLIENVASLUGTTVRDYTQMNELQRRLGPRGLVVLGFPCNQFGHQENAKNEEILNSLKYVRPGGGFEPNFMLFEKCEVNGAGAHPLFAFLREALPAPSDDATALMTDPKLITWSPVCRNDVAWNFEKFLVGPDGVPLRRYSRRFQTIDIEPDIEALLSQGPSCA',\n",
       " 'ENST00000467087': 'MLVLGLLVAGAADGCELVPRHLRGRRATGSAATAASSPAAAAGDSPALMTDPCMSLSPPCFTEEDRFSLEALQTIHKQMDDDKDGGIEVEESDEFIREDMKYKDATNKHSHLHREDKHITIEDLWKRWKTSEVHNWTLEDTLQWLIEFVELPQYEKNFRDNNVKGTTLPRIAVHEPSFMISQLKISDRSHRQKLQLKALDVVLFGPLTRPPHNWMKDFILTVSIVIGVGGCWFAYTQNKTSKEHVAKMMKDLESLQTAEQSLMDLQERLEKAQEENRNVAVEKQNLERKMMDEINYAKEEACRLRELREGAECELSRRQYAEQELEQVRMALKKAEKEFELRSSWSVPDALQKWLQLTHEVEVQYYNIKRQNAEMQLAIAKDEAEKIKKKRSTVFGTLHVAHSSSLDEVDHKILEAKKALSELTTCLRERLFRWQQIEKICGFQIAHNSGLPSLTSSLYSDHSWVVMPRVSIPPYPIAGGVDDLDEDTPPIVSQFPGTMAKPPGSLARSSSLCRSRRSIVPSSPQPQRAQLAPHAPHPSHPRHPHHPQHTPHSLPSPDPDILSVSSCPALYRNEEEEEAIYFSAEKQWEVPDTASECDSLNSSIGRKQSPPLSLEIYQTLSPRKISRDEVSLEDSSRGDSPVTVDVSWGSPDCVGLTETKSMIFSPASKVYNGILEKSCSMNQLSSGIPVPKPRHTSCSSAGNDSKPVQEAPSVARISSIPHDLCHNGEKSKKPSKIKSLFKKKSK',\n",
       " 'ENST00000289448': 'MEEQPECREEKRGSLHVWKSELVEVEDDVYLRHSSSLTYRL',\n",
       " 'ENST00000388825': 'MARLLQASCLLSLLLAGFVSQSRGQEKSKMDCHGGISGTIYEYGALTIDGEEYIPFKQYAGKYVLFVNVASYUGLTGQYIELNALQEELAPFGLVILGFPCNQFGKQEPGENSEILPTLKYVRPGGGFVPNFQLFEKGDVNGEKEQKFYTFLKNSCPPTSELLGTSDRLFWEPMKVHDIRWNFEKFLVGPDGIPIMRWHHRTTVSNVKMDILSYMRRQAALGVKRK',\n",
       " 'ENST00000514985': 'MWRSLGLALALCLLPSGGTESQDQSSLCKQPPAWSIRDQDPMLNSNGSVTVVALLQASUYLCILQASKLEDLRVKLKKEGYSNISYIVVNHQGISSRLKYTHLKNKVSEHIPVYQQEENQTDVWTLLNGSKDDFLIYDRCGRLVYHLGLPFSFLTFPYVEEAIKIAYCEKKCGNCSLTTLKDEDFCKRVSLATVDKTVETPSPHYHHEHHHNHGHQHLGSSELSENQQPGAPNAPTHPAPPGLHHHHKHKGQHRQGHPENRDMPASEDLQDLQKKLCRKRCINQLLCKLPTDSELAPRSUCCHCRHLIFEKTGSAITUQCKENLPSLCSUQGLRAEENITESCQURLPPAAUQISQQLIPTEASASURUKNQAKKUEUPSN',\n",
       " 'ENST00000338863': 'MASNSWNASSSPGEAREDGPEGLDKGLDNDAEGVWSPDIEQSFQEALAIYPPCGRRKIILSDEGKMYGRNELIARYIKLRTGKTRTRKQVSSHIQVLARKKVREYQVGIKAMNLDQVSKDKALQSMASMSSAQIVSASVLQNKFSPPSPLPQAVFSTSSRFWSSPPLLGQQPGPSQDIKPFAQPAYPIQPPLPPTLSSYEPLAPLPSAAASVPVWQDRTIASSRLRLLEYSAFMEVQRDPDTYSKHLFVHIGQTNPAFSDPPLEAVDVRQIYDKFPEKKGGLKELYEKGPPNAFFLVKFWADLNSTIQEGPGAFYGVSSQYSSADSMTISVSTKVCSFGKQVVEKVETEYARLENGRFVYRIHRSPMCEYMINFIHKLKHLPEKYMMNSVLENFTILQVVTSRDSQETLLVIAFVFEVSTSEHGAQHHVYKLVKD',\n",
       " 'ENST00000361902': 'MFQQFQASCLVLFFLVGFAQQTLKPQNRKVDCNKGVTGTIYEYGALTLNGEEYIQFKQFAGKHVLFVNVAAYUGLAAQYPELNALQEELKNFGVIVLAFPCNQFGKQEPGTNSEILLGLKYVCPGSGFVPSFQLFEKGDVNGEKEQKVFTFLKNSCPPTSDLLGSSSQLFWEPMKVHDIRWNFEKFLVGPDGVPVMHWFHQAPVSTVKSDILEYLKQFNTH',\n",
       " 'ENST00000672860': 'MTDRQTDTAPSPSYHLLPGRRRTVDAAASRGQGPEPAPGGGVEGVGARGVALKLFVQLLGCSRFGGAVVRAGEAEPSGAARSASSGREEPQPEEGEEEEEKEEERGPQWRLGARKPGSWTGEAAVCADSAPAARAPQALARASGRGGRVARRGAEESGPPHSPSRRGSASRAGPGRASETMNFLLSWVHWSLALLLYLHHAKWSQAAPMAEGGGQNHHEVVKFMDVYQRSYCHPIETLVDIFQEYPDEIEYIFKPSCVPLMRCGGCCNDEGLECVPTEESNITMQIMRIKPHQGQHIGEMSFLQHNKCECRPKKDRARQEKKSVRGKGKGQKRKRKKSRYKSWSVPCGPCSERRKHLFVQDPQTCKCSCKNTDSRCKARQLELNERTCRCDKPRR',\n",
       " 'ENST00000506618': 'MPNIKIFSGSSHQDLSQKIADRLGLELGKVVTKKFSNQETCVEIDESVRGEDVYIVQSGCGEINDSLMELLIMINACKIASASRVTAVIPCFPYARQDKKDKSRSPISAKLVANMLSIAGADHIITMDLHASQIQGFFDIPVDNLYAEPTVLKWIRENIPEWKNCIIVSPDAGGAKRVTSIADQLNVDFALIHKERKKANEVDCIVLVGDVNDRVAILVDDMADTCVTICLAADKLLSAGATRVYAILTHGIFSGPAISRINTACFEAVVVTNTIPQDEKMKHCSKIRVIDISMILAEAIRRTHNGESVSYLFSHVPL',\n",
       " 'ENST00000359396': 'MGPLQGDGGPALGGADVAPRLSPVRVWPRPQAPKEPALHPMGLSLPKEKGLILCLWSKFCRWFQRRESWAQSRDEQNLLQQKRIWESPLLLAAKDNDVQALNKLLKYEDCKVHQRGAMGETALHIAALYDNLEAAMVLMEAAPELVFEPMTSELYEGQTALHIAVVNQNMNLVRALLARRASVSARATGTAFRRSPCNLIYFGEHPLSFAACVNSEEIVRLLIEHGADIRAQDSLGNTVLHILILQPNKTFACQMYNLLLSYDRHGDHLQPLDLVPNHQGLTPFKLAGVEGNTVMFQHLMQKRKHTQWTYGPLTSTLYDLTEIDSSGDEQSLLELIITTKKREARQILDQTPVKELVSLKWKRYGRPYFCMLGAIYLLYIICFTMCCIYRPLKPRTNNRTSPRDNTLLQQKLLQEAYMTPKDDIRLVGELVTVIGAIIILLVEVPDIFRMGVTRFFGQTILGGPFHVLIITYAFMVLVTMVMRLISASGEVVPMSFALVLGWCNVMYFARGFQMLGPFTIMIQKMIFGDLMRFCWLMAVVILGFASAFYIIFQTEDPEELGHFYDYPMALFSTFELFLTIIDGPANYNVDLPFMYSITYAAFAIIATLLMLNLLIAMMGDTHWRVAHERDELWRAQIVATTVMLERKLPRCLWPRSGICGREYGLGDRWFLRVEDRQDLNRQRIQRYAQAFHTRGSEDLDKDSVEKLELGCPFSPHLSLPMPSVSRSTSRSSANWERLRQGTLRRDLRGIINRGLEDGESWEYQI',\n",
       " 'ENST00000265806': 'MALLCLDGVFLSSAENDFVHRIQEELDRFLLQKQLSKVLLFPPLSSRLRYLIHRTAENFDLLSSFSVGEGWKRRTVICHQDIRVPSSDGLSGPCRAPASCPSRYHGPRPISNQGAAAVPRGARAGRWYRGRKPDQPLYVPRVLRRQEEWGLTSTSVLKREAPAGRDPEEPGDVGAGDPNSDQGLPVLMTQGTEDLKGPGQRCENEPLLDPVGPEPLGPESQSGKGDMVEMATRFGSTLQLDLEKGKESLLEKRLVAEEEEDEEEVEEDGPSSCSEDDYSELLQEITDNLTKKEIQIEKIHLDTSSFVEELPGEKDLAHVVEIYDFEPALKTEDLLATFSEFQEKGFRIQWVDDTHALGIFPCLASAAEALTREFSVLKIRPLTQGTKQSKLKALQRPKLLRLVKERPQTNATVARRLVARALGLQHKKKERPAVRGPLPP',\n",
       " 'ENST00000621592': 'MDFFRVVENQQPPATMPLNVSFTNRNYDLDYDSVQPYFYCDEEENFYQQQQQSELQPPAPSEDIWKKFELLPTPPLSPSRRSGLCSPSYVAVTPFSLRGDNDGGGGSFSTADQLEMVTELLGGDMVNQSFICDPDDETFIKNIIIQDCMWSGFSAAAKLVSEKLASYQAARKDSGSPNPARGHSVCSTSSLYLQDLSAAASECIDPSVVFPYPLNDSSSPKSCASQDSSAFSPSSDSLLSSTESSPQGSPEPLVLHEETPPTTSSDSEEEQEDEEEIDVVSVEKRQAPGKRSESGSPSAGGHSKPPHSPLVLKRCHVSTHQHNYAAPPSTRKDYPAAKRVKLDSVRVLRQISNNRKCTSPRSSDTEENVKRRTHNVLERQRRNELKRSFFALRDQIPELENNEKAPKVVILKKATAYILSVQAEEQKLISEEDLLRKRREQLKHKLEQLRNSCA',\n",
       " 'ENST00000343053': 'MAELEGAGERGSGGPRGPAERASGVSAAAPGERAGDGAPSRAVAGASAMFAGLQDLGVANGEDLKETLTNCTEPLKAIEQFQTENGVLLPSLQSALPFLDLHGTPRLEFHQSVFDELRDKLLERVSAIASEGKAEERYKKLEDLLEKSFSLVKMPSLQPVVMCVMKHLPKVPEKKLKLVMADKELYRACAVEVKRQIWQDNQALFGDEVSPLLKQYILEKESALFSTELSVLHNFFSPSPKTRRQGEVVQRLTRMVGKNVKLYDMVLQFLRTLFLRTRNVHYCTLRAELLMSLHDLDVGEICTVDPCHKFTWCLDACIRERFVDSKRARELQGFLDGVKKGQEQVLGDLSMILCDPFAINTLALSTVRHLQELVGQETLPRDSPDLLLLLRLLALGQGAWDMIDSQVFKEPKMEVELITRFLPMLMSFLVDDYTFNVDQKLPAEEKAPVSYPNTLPESFTKFLQEQRMACEVGLYYVLHITKQRNKNALLRLLPGLVETFGDLAFGDIFLHLLTGNLALLADEFALEDFCSSLFDGFFLTASPRKENVHRHALRLLIHLHPRVAPSKLEALQKALEPTGQSGEAVKELYSQLGEKLEQLDHRKPSPAQAAETPALELPLPSVPAPAPL',\n",
       " 'ENST00000418976': 'MDPLAPLNPLIRGPRTPGLRRTEPRLTRSCRGAFRSPRPLPKSGQADGTSEESLHLDIQKLKEKRDMLDKEISQFVSEGYSVDELEDHITQLHEYNDIKDVGQMLMGKLAVIRGVTTKELYPEFGLDMND',\n",
       " 'ENST00000634734': 'MAQRGGARRPRGDRERLGSRLRALRPGREPRQSEPPAQRGPPPSGRPPARSTASGHDRPTRGAAAGARRPRMKKKTRRRSTRSEELTRSEELTLSEEATWSEEATQSEEATQGEEMNRSQEVTRDEESTRSEEVTREEMAAAGLTVTVTHSNEKHDLHVTSQQGSSEPVVQDLAQVVEEVIGVPQSFQKLIFKGKSLKEMETPLSALGIQDGCRVMLIGKKNSPQEEVELKKLKHLEKSVEKIADQLEELNKELTGIQQGFLPKDLQAEALCKLDRRVKATIEQFMKILEEIDTLILPENFKDSRLKRKGLVKKVQAFLAECDTVEQNICQETERLQSTNFALAE',\n",
       " 'ENST00000527636': 'MEPSSWSGSESPAENMERMSDSADKPIDNDAEGVWSPDIEQSFQEALAIYPPCGRRKIILSDEGKMYGRNELIARYIKLRTGKTRTRKQVSSHIQVLARRKSRDFHSKLKDQTAKDKALQHMAAMSSAQIVSATAIHNKLGLPGIPRPTFPGAPGFWPGMIQTGQPGSSQDVKPFVQQAYPIQPAVTAPIPGFEPASAPAPSVPAWQGRSIGTTKLRLVEFSAFLEQQRDPDSYNKHLFVHIGHANHSYSDPLLESVDIRQIYDKFPEKKGGLKELFGKGPQNAFFLVKFWADLNCNIQDDAGAFYGVTSQYESSENMTVTCSTKVCSFGKQVVEKVETEYARFENGRFVYRINRSPMCEYMINFIHKLKHLPEKYMMNSVLENFTILLVVTNRDTQETLLCMACVFEVSNSEHGAQHHIYRLVKD',\n",
       " 'ENST00000534355': 'MAPRGRKRKAEAAVVAVAEKREKLANGGEGMEEATVVIEHCTSURVYGRNAAALSQALRLEAPELPVKVNPTKPRRGSFEVTLLRPDGSSAELWTGIKKGPPRKLKFPEPQEVVEELKKYLS',\n",
       " 'ENST00000339995': 'MESAIAEGGASRFSASSGGGGSRGAPQHYPKTAGNSEFLGKTPGQNAQKWIPARSTRRDDNSAANNSANEKERHDAIFRKVRGILNKLTPEKFDKLCLELLNVGVESKLILKGVILLIVDKALEEPKYSSLYAQLCLRLAEDAPNFDGPAAEGQPGQKQSTTFRRLLISKLQDEFENRTRNVDVYDKRENPLLPEEEEQRAIAKIKMLGNIKFIGELGKLDLIHESILHKCIKTLLEKKKRVQLKDMGEDLECLCQIMRTVGPRLDHERAKSLMDQYFARMCSLMLSKELPARIRFLLQDTVELREHHWVPRKAFLDNGPKTINQIRQDAVKDLGVFIPAPMAQGMRSDFFLEGPFMPPRMKMDRDPLGGLADMFGQMPGSGIGTGPGVIQDRFSPTMGRHRSNQLFNGHGGHIMPPTQSQFGEMGGKFMKSQGLSQLYHNQSQGLLSQLQGQSKDMPPRFSKKGQLNADEISLRPAQSFLMNKNQVPKLQPQITMIPPSAQPPRTQTPPLGQTPQLGLKTNPPLIQEKPAKTSKKPPPSKEELLKLTETVVTEYLNSGNANEAVNGVREMRAPKHFLPEMLSKVIILSLDRSDEDKEKASSLISLLKQEGIATSDNFMQAFLNVLDQCPKLEVDIPLVKSYLAQFAARAIISELVSISELAQPLESGTHFPLFLLCLQQLAKLQDREWLTELFQQSKVNMQKMLPEIDQNKDRMLEILEGKGLSFLFPLLKLEKELLKQIKLDPSPQTIYKWIKDNISPKLHVDKGFVNILMTSFLQYISSEVNPPSDETDSSSAPSKEQLEQEKQLLLSFKPVMQKFLHDHVDLQVSALYALQVHCYNSNFPKGMLLRFFVHFYDMEIIEEEAFLAWKEDITQEFPGKGKALFQVNQWLTWLETAEEEESEEEAD',\n",
       " 'ENST00000452863': 'MDFLLLQDPASTCVPEPASQHTLRSGPGCLQQPEQQGVRDPGGIWAKLGAAEASAERLQGRRSRGASGSEPQQMGSDVRDLNALLPAVPSLGGGGGCALPVSGAAQWAPVLDFAPPGASAYGSLGGPAPPPAPPPPPPPPPHSFIKQEPSWGGAEPHEEQCLSAFTVHFSGQFTGTAGACRYGPFGPPPPSQASSGQARMFPNAPYLPSCLESQPAIRNQGYSTVTFDGTPSYGHTPSHHAAQFPNHSFKHEDPMGQQGSLGEQQYSVPPPVYGCHTPTDSCTGSQALLLRTPYSSDNLYQMTSQLECMTWNQMNLGATLKGVAAGSSSSVKWTEGQSNHSTGYESDNHTTPILCGAQYRIHTHGVFRGIQDVRRVPGVAPTLVRSASETSEKRPFMCAYPGCNKRYFKLSHLQMHSRKHTGEKPYQCDFKDCERRFSRSDQLKRHQRRHTGVKPFQCKTCQRKFSRSDHLKTHTRTHTGKTSEKPFSCRWPSCQKKFARSDELVRHHNMHQRNMTKLQLAL',\n",
       " 'ENST00000525566': 'MGCAEGKAVAAAAPTELQTKGKNGDGRRRSAKDHHPGKTLPENPAGFTSTATADSRALLQAYIDGHSVVIFSRSTCTRCTEVKKLFKSLCVPYFVLELDQTEDGRALEGTLSELAAETDLPVVFVKQRKIGGHGPTLKAYQEGRLQKLLKMNGPEDLPKSYDYDLIIIGGGSGGLAAAKEAAQYGKKVMVLDFVTPTPLGTRWGLGGTCVNVGCIPKKLMHQAALLGQALQDSRNYGWKVEETVKHDWDRMIEAVQNHIGSLNWGYRVALREKKVVYENAYGQFIGPHRIKATNNKGKEKIYSAERFLIATGERPRYLGIPGDKEYCISSDDLFSLPYCPGKTLVVGASYVALECAGFLAGIGLDVTVMVRSILLRGFDQDMANKIGEHMEEHGIKFIRQFVPIKVEQIEAGTPGRLRVVAQSTNSEEIIEGEYNTVMLAIGRDACTRKIGLETVGVKINEKTGKIPVTDEEQTNVPYIYAIGDILEDKVELTPVAIQAGRLLAQRLYAGSTVKCDYENVPTTVFTPLEYGACGLSEEKAVEKFGEENIEVYHSYFWPLEWTIPSRDNNKCYAKIICNTKDNERVVGFHVLGPNAGEVTQGFAAALKCGLTKKQLDSTIGIHPVCAEVFTTLSVTKRSGASILQAGCUG',\n",
       " 'ENST00000359864': 'MEGTAGTITSNEWSSPTSPEGSTASGGSQALDKPIDNDAEGVWSPDIEQSFQEALAIYPPCGRRKIILSDEGKMYGRNELIARYIKLRTGKTRTRKQVSSHIQVLARRKAREIQAKLKDQAAKDKALQSMAAMSSAQIISATAFHSSMALARGPGRPAVSGFWQGALPGQAGTSHDVKPFSQQTYAVQPPLPLPGFESPAGPAPSPSAPPAPPWQGRSVASSKLWMLEFSAFLEQQQDPDTYNKHLFVHIGQSSPSYSDPYLEAVDIRQIYDKFPEKKGGLKDLFERGPSNAFFLVKFWADLNTNIEDEGSSFYGVSSQYESPENMIITCSTKVCSFGKQVVEKVETEYARYENGHYSYRIHRSPLCEYMINFIHKLKHLPEKYMMNSVLENFTILQVVTNRDTQETLLCIAYVFEVSASEHGAQHHIYRLVKE',\n",
       " 'ENST00000381140': 'MDPPAVVAESVSSLTIADAFIAAGESSAPTPPRPALPRRFICSFPDCSANYSKAWKLDAHLCKHTGERPFVCDYEGCGKAFIRDYHLSRHILTHTGEKPFVCAANGCDQKFNTKSNLKKHFERKHENQQKQYICSFEDCKKTFKKHQQLKIHQCQHTNEPLFKCTQEGCGKHFASPSKLKRHAKAHEGYVCQKGCSFVAKTWTELLKHVRETHKEEILCEVCRKTFKRKDYLKQHMKTHAPERDVCRCPREGCGRTYTTVFNLQSHILSFHEESRPFVCEHAGCGKTFAMKQSLTRHAVVHDPDKKKMKLKVKKSREKRSLASHLSGYIPPKRKQGQGLSLCQNGESPNCVEDKMLSTVAVLTLG',\n",
       " 'ENST00000438257': 'MGILSVDLLITLQILPVFFSNCLFLALYDSVILLKHVVLLLSRSKSTRGEWRRMLTSEGLRCVWKSFLLDAYKQVKLGEDAPNSSVVHVSSTEGGDNSGNGTQEKIAEGATCHLLDFASPERPLVVNFGSATUPPFTSQLPAFRKLVEEFSSVADFLLVYIDEAHPSDGWAIPGDSSLSFEVKKHQNQEDRCAAAQQLLERFSLPPQCRVVADRMDNNANIAYGVAFERVCIVQRQKIAYLGGKGPFSYNLQEVRHWLEKNFSKRUKKTRLAG',\n",
       " 'ENST00000389614': 'MAFIAKSFYDLSAISLDGEKVDFNTFRGRAVLIENVASLUGTTTRDFTQLNELQCRFPRRLVVLGFPCNQFGHQENCQNEEILNSLKYVRPGGGYQPTFTLVQKCEVNGQNEHPVFAYLKDKLPYPYDDPFSLMTDPKLIIWSPVRRSDVAWNFEKFLIGPEGEPFRRYSRTFPTINIEPDIKRLLKVAI',\n",
       " 'ENST00000354772': 'MAPRVATGTPEPNGGGGGKIDNTVEITPTSNGQVGTLGDAVPTEQLQGEREREREGEGDAGGDGLGSSLSLAVPPGPLSFEALLAQVGALGGGQQLQLGLCCLPVLFVALGMASDPIFTLAPPLHCHYGAFPPNASGWEQPPNASGVSVASAALAASAASRVATSTDPSCSGFAPPDFNHCLKDWDYNGLPVLTTNAIGQWDLVCDLGWQVILEQILFILGFASGYLFLGYPADRFGRRGIVLLTLGLVGPCGVGGAAAGSSTGVMALRFLLGFLLAGVDLGVYLMRLELCDPTQRLRVALAGELVGVGGHFLFLGLALVSKDWRFLQRMITAPCILFLFYGWPGLFLESARWLIVKRQIEEAQSVLRILAERNRPHGQMLGEEAQEALQDLENTCPLPATSSFSFASLLNYRNIWKNLLILGFTNFIAHAIRHCYQPVGGGGSPSDFYLCSLLASGTAALACVFLGVTVDRFGRRGILLLSMTLTGIASLVLLGLWDYLNEAAITTFSVLGLFSSQAAAILSTLLAAEVIPTTVRGRGLGLIMALGALGGLSGPAQRLHMGHGAFLQHVVLAACALLCILSIMLLPETKRKLLPEVLRDGELCRRPSLLRQPPPTRCDHVPLLATPNPAL',\n",
       " 'ENST00000510508': 'MPRQATSRLVVGEGEGSQGASGPAATMLRSLLLHSLRLCAQTASCLVLFPRFLGTAFMLWLLDFLCIRKHFLGRRRRGQPEPEVELNSEGEEVPPDDPPICVSDDNRLCTLASLKAVWHGQKLDFFKQAHEGGPAPNSEVVLPDGFQSQHILDYAQGNRPLVLNFGSCTUPPFMARMSAFQRLVTKYQRDVDFLIIYIEEAHPSDGWVTTDSPYIIPQHRSLEDRVSAARVLQQGAPGCALVLDTMANSSSSAYGAYFERLYVIQSGTIMYQGGRGPDGYQVSELRTWLERYDEQLHGARPRRV',\n",
       " 'ENST00000526049': 'MERQEESLSARPALETEGLRFLHTTVGSLLATYGWYIVFSCILLYVVFQKLSARLRALRQRQLDRAAAAVEPDVVVKRQEALAAARLKMQEELNAQVEKHKEKLKQLEEEKRRQKIEMWDSMQEGKSYKGNAKKPQEEDSPGPSTSSVLKRKSDRKPLRGGGYNPLSGEGGGACSWRPGRRGPSSGGUG',\n",
       " 'ENST00000478753': 'MAEASATGACGEAMAAAEGSSGPAGLTLGRSFSNYRPFEPQALGLSPSWRLTGFSGMKGUGCKVPQEALLKLLAGLTRPDVRPPLGRGLVGGQEEASQEAGLPAGAGPSPTFPALGIGMDSCVIPLRHGGLSLVQTTDFFYPLVEDPYMMGRIACANVLSDLYAMGITECDNMLMLLSVSQSMSEEEREKVTPLMVKGFRDAAEEGGTAVTGGQTVVNPWIIIGGVATVVCQPNEFIMPDSAVVGDVLVLTKPLGTQVAVNAHQWLDNPERWNKVKMVVSREEVELAYQEAMFNMATLNRTAAGLMHTFNAHAATDITGFGILGHSQNLAKQQRNEVSFVIHNLPIIAKMAAVSKASGRFGLLQGTSAETSGGLLICLPREQAARFCSEIKSSKYGEGHQAWIVGIVEKGNRTARIIDKPRVIEVLPRGATAAVLAPDSSNASSEPSS',\n",
       " 'ENST00000505035': 'MDKPLQLPPIFLEGEKGESSVQNEQEGEPSLQSPSLELQSPAWPRHAGVAQEPLKVSSSYLSDTQSSESHVSSVQHPRPEEGSHASLSSGYAGDKEGSDISLVGSHRRVRLNRRLNTQAASNQTSQLGSIDPPSSLKSRLTGPAHSTKQTGGKE',\n",
       " 'ENST00000361871': 'MSFCSFFGGEVFQNHFEPGVYVCAKCGYELFSSRSKYAHSSPWPAFTETIHADSVAKRPEHNRSEALKVSCGKCGNGLGHEFLNDGPKPGQSRFUIFSSSLKFVPKGKETSASQGH',\n",
       " 'ENST00000566435': 'MAWRPGERGAPASRPRLALLLLLLLLPLPSGAWYKHVASPRYHTVGRAAGLLMGLRRSPYLWRRALRAAAGPLARDTLSPEPAAREAPLLLPSWVQELWETRRRSSQAGIPVRAPRSPRAPEPALEPESLDFSGAGQRLRRDVSRPAVDPAANRLGLPCLAPGPF',\n",
       " 'ENST00000333751': 'MSPPPVPSSPPSFGGPVTLNVGGTLYSTTLETLTRFPDSMLGAMFRAGTPMPPNLNSQGGGHYFIDRDGKAFRHILNFLRLGRLDLPRGYGETALLRAEADFYQIRPLLDALRELEASQGTPAPTAALLHADVDVSPRLVHFSARRGPHHYELSSVQVDTFRANLFCTDSECLGALRARFGVASGDRAEGSPHFHLEWAPRPVELPEVEYGRLGLQPLWTGGPGERREVVGTPSFLEEVLRVALEHGFRLDSVFPDPEDLLNSRSLRFVRH',\n",
       " 'ENST00000270458': 'MESLKRWNEERGLWCEKGVQVLLTTVGAFAAFGLMTIAISTDYWLYTRALICNTTNLTAGGDDGTPHRGGGGASEKKDPGGLTHSGLWRICCLEGLKRGVCVKINHFPEDTDYDHDSAEYLLRVVRASSIFPILSAILLLLGGVCVAASRVYKSKRNIILGAGILFVAAGLSNIIGVIVYISANAGEPGPKRDEEKKNHYSYGWSFYFGGLSFILAEVIGVLAVNIYIERSREAHCQSRSDLLKAGGGAGGSGGSGPSAILRLPSYRFRYRRRSRSSSRSSEPSPSRDASPGGPGGPGFASTDISMYTLSRDPSKGSVAAGLAGAGGGGGGAVGAFGGAAGGAGGGGGGGGGAGAERDRGGASGFLTLHNAFPKEAGGGVTVTVTGPPAPPAPAPPAPSAPAPGTLAKEAAASNTNTLNRKTTPV',\n",
       " 'ENST00000601048': 'MALAVRVVYCGAUGYKSKYLQLKKKLEDEFPGRLDICGEGTPQATGFFEVMVAGKLIHSKKKGDGYVDTESKFLKLVAAIKAALAQG',\n",
       " 'ENST00000335426': 'MNNQARTPAPSSARTSTSVRASTPTRTPTPLRTPTPVRTRTPIRTLTPVLTPSPAGTSPLVLTPAPAQIPTLVPTPALARIPRLVPPPAPAWIPTPVPTPVPVRNPTPVPTPARTLTPPVRVPAPAPAQLLAGIRAALPVLDSYLAPALPLDPPPEPAPELPLLPEEDPEPAPSLKLIPSVSSEAGPAPGPLPTRTPLAANSPGPTLDFTFRADPSAIGLADPPIPSPVPSPILGTIPSAISLQNCTETFPSSSENFALDKRVLIRVTYCGLUSYSLRYILLKKSLEQQFPNHLLFEEDRAAQATGEFEVFVNGRLVHSKKRGDGFVNESRLQKIVSVIDEEIKKR',\n",
       " 'ENST00000354171': 'MSLGRLCRLLKPALLCGALAAPGLAGTMCASRDDWRCARSMHEFSAKDIDGHMVNLDKYRGFVCIVTNVASQUGKTEVNYTQLVDLHARYAECGLRILAFPCNQFGKQEPGSNEEIKEFAAGYNVKFDMFSKICVNGDDAHPLWKWMKIQPKGKGILGNAIKWNFTKFLIDKNGCVVKRYGPMEEPLVIEKDLPHYF',\n",
       " 'ENST00000641389': 'MAQRRGRGPGGPQSTPRNPRVSRGERSHCPTQTVKKLLEEQRRRQQQQPDAGGVQGQFLPPPEQPLTPSVNEAVTGHPPFPAHSETVGSGPSSLGFPDWDPNTHAAYTDSPYSCPASAAENFLPPDFYPPSDPGQPCPFPQGMEAGPWRVSAPPSGPPQFPAVVPGPSLEVARAHMLALGPQQLLAQDEEGDTLLHLFAARGLRWAAYAAAEVLQVYRRLDIREHKGKTPLLVAAAANQPLIVEDLLNLGAEPNAADHQGRSVLHVAATYGLPGVLLAVLNSGVQVDLEARDFEGLTPLHTAILALNVAMRPSDLCPRVLSTQARDRLDCVHMLLQMGANHTSQEIKSNKTVLHLAVQAANPTLVQLLLELPRGDLRTFVNMKAHGNTALHMAAALPPGPAQEAIVRHLLAAGADPTLRNLENEQPVHLLRPGPGPEGLRQLLKRSRVAPPGLSS',\n",
       " 'ENST00000375852': 'MGGRSSCEDPGCPRDEERAPRMGCMKSKFLQVGGNTFSKTETSASPHCPVYVPDPTSTIKPGPNSHNSNTPGIREAGSEDIIVVALYDYEAIHHEDLSFQKGDQMVVLEESGEWWKARSLATRKEGYIPSNYVARVDSLETEEWFFKGISRKDAERQLLAPGNMLGSFMIRDSETTKGSYSLSVRDYDPRQGDTVKHYKIRTLDNGGFYISPRSTFSTLQELVDHYKKGNDGLCQKLSVPCMSSKPQKPWEKDAWEIPRESLKLEKKLGAGQFGEVWMATYNKHTKVAVKTMKPGSMSVEAFLAEANVMKTLQHDKLVKLHAVVTKEPIYIITEFMAKGSLLDFLKSDEGSKQPLPKLIDFSAQIAEGMAFIEQRNYIHRDLRAANILVSASLVCKIADFGLARVIEDNEYTAREGAKFPIKWTAPEAINFGSFTIKSDVWSFGILLMEIVTYGRIPYPGMSNPEVIRALERGYRMPRPENCPEELYNIMMRCWKNRPEERPTFEYIQSVLDDFYTATESQYQQQP',\n",
       " 'ENST00000610179': 'MGGLLGRQRLLLRMGGGRLGAPMERHGRASATSVSSAGEQAAGDPEGRRQEPLRRRASSASVPAVGASAEGTRRDRLGSYSGPTSVSRQRVESLRKKRPLFPWFGLDIGGTLVKLVYFEPKDITAEEEEEEVESLKSIRKYLTSNVAYGSTGIRDVHLELKDLTLCGRKGNLHFIRFPTHDMPAFIQMGRDKNFSSLHTVFCATGGGAYKFEQDFLTIGDLQLCKLDELDCLIKGILYIDSVGFNGRSQCYYFENPADSEKCQKLPFDLKNPYPLLLVNIGSGVSILAVYSKDNYKRVTGTSLGGGTFFGLCCLLTGCTTFEEALEMASRGDSTKVDKLVRDIYGGDYERFGLPGWAVASSFGNMMSKEKREAVSKEDLARATLITITNNIGSIARMCALNENINQVVFVGNFLRINTIAMRLLAYALDYWSKGQLKALFSEHEGYFGAVGALLELLKIP',\n",
       " 'ENST00000333039': 'MKFLAVLLAAGMLAFLGAVICIIASVPLAASPARALPGGADNASVASGAAASPGPQRSLSALHGAGGSAGPPALPGAPAASAHPLPPGPLFSRFLCTPLAAACPSGAQQGDAAGAAPGEREELLLLQSTAEQLRQTALQQEARIRADQDTIRELTGKLGRCESGLPRGLQGAGPRRDTMADGPWDSPALILELEDAVRALRDRIDRLEQELPARVNLSAAPAPVSAVPTGLHSKMDQLEGQLLAQVLALEKERVALSHSSRRQRQEVEKELDVLQGRVAELEHGSSAYSPPDAFKISIPIRNNYMYARVRKALPELYAFTACMWLRSRSSGTGQGTPFSYSVPGQANEIVLLEAGHEPMELLINDKVAQLPLSLKDNGWHHICIAWTTRDGLWSAYQDGELQGSGENLAAWHPIKPHGILILGQEQDTLGGRFDATQAFVGDIAQFNLWDHALTPAQVLGIANCTAPLLGNVLPWEDKLVEAFGGATKAAFDVCKGRAKA',\n",
       " 'ENST00000400521': 'MAAMAVALRGLGGRFRWRTQAVAGGVRGAARGAAAGQRDYDLLVVGGGSGGLACAKEAAQLGRKVAVVDYVEPSPQGTRWGLGGTCVNVGCIPKKLMHQAALLGGLIQDAPNYGWEVAQPVPHDWRKMAEAVQNHVKSLNWGHRVQLQDRKVKYFNIKASFVDEHTVCGVAKGGKEILLSADHIIIATGGRPRYPTHIEGALEYGITSDDIFWLKESPGKTLVVGASYVALECAGFLTGIGLDTTIMMRSIPLRGFDQQMSSMVIEHMASHGTRFLRGCAPSRVRRLPDGQLQVTWEDSTTGKEDTGTFDTVLWAIGRVPDTRSLNLEKAGVDTSPDTQKILVDSREATSVPHIYAIGDVVEGRPELTPIAIMAGRLLVQRLFGGSSDLMDYDNVPTTVFTPLEYGCVGLSEEEAVARHGQEHVEVYHAHYKPLEFTVAGRDASQCYVKMVCLREPPQLVLGLHFLGPNAGEVTQGFALGIKCGASYAQVMRTVGIHPTCSEEVVKLRISKRSGLDPTVTGCUG',\n",
       " 'ENST00000380903': 'MAVYRAALGASLAAARLLPLGRCSPSPAPRSTLSGAAMEPAPRWLAGLRFDNRALRALPVEAPPPGPEGAPSAPRPVPGACFTRVQPTPLRQPRLVALSEPALALLGLGAPPAREAEAEAALFFSGNALLPGAEPAAHCYCGHQFGQFAGQLGDGAAMYLGEVCTATGERWELQLKGAGPTPFSRQADGRKVLRSSIREFLCSEAMFHLGVPTTRAGACVTSESTVVRDVFYDGNPKYEQCTVVLRVASTFIRFGSFEIFKSADEHTGRAGPSVGRNDIRVQLLDYVISSFYPEIQAAHASDSVQRNAAFFREVTRRTARMVAEWQCVGFCHGVLNTDNMSILGLTIDYGPFGFLDRYDPDHVCNASDNTGRYAYSKQPEVCRWNLRKLAEALQPELPLELGEAILAEEFDAEFQRHYLQKMRRKLGLVQVELEEDGALVSKLLETMHLTGADFTNTFYLLSSFPVELESPGLAEFLARLMEQCASLEELRLAFRPQMDPRQLSMMLMLAQSNPQLFALMGTRAGIARELERVEQQSRLEQLSAAELQSRNQGHWADWLQAYRARLDKDLEGAGDAAAWQAEHVRVMHANNPKYVLRNYIAQNAIEAAERGDFSEVRRVLKLLETPYHCEAGAATDAEATEADGADGRQRSYSSKPPLWAAELCVTUSS',\n",
       " 'ENST00000644773': 'MARPPPLPGLVGRRNGRAVDRAIGWRLFLLLWHPALGAQARPPRRAPGGRWRSRRVFLLVRRTRAAAYAFAIRRGVVRVVGGGGQLLRPAPGEAAAAAAAGFGAAGEAGVAGAGLEAWRHPSGPARTQLGGQEGAGGWLVVGFLLCLFLLMPP',\n",
       " 'ENST00000403230': 'MPTGFVAPILCVLLPSPTREAATVASATGDSASERESAAPAAAPTAEAPPPSVVTRPEPQALPSPAIRAPLPDLYPFGTMRGGGFGDRDRDRDRGGFGARGGGGLPPKKFGNPGERLRKKKWDLSELPKFEKNFYVEHPEVARLTPYEVDELRRKKEITVRGGDVCPKPVFAFHHANFPQYVMDVLMDQHFTEPTPIQCQGFPLALSGRDMVGIAQTGSGKTLAYLLPAIVHINHQPYLERGDGPICLVLAPTRELAQQVQQVADDYGKCSRLKSTCIYGGAPKGPQIRDLERGVEICIATPGRLIDFLESGKTNLRRCTYLVLDEADRMLDMGFEPQIRKIVDQIRPDRQTLMWSATWPKEVRQLAEDFLRDYTQINVGNLELSANHNILQIVDVCMESEKDHKLIQLMEEIMAEKENKTIIFVETKRRCDDLTRRMRRDGWPAMCIHGDKSQPERDWVLNEFRSGKAPILIATDVASRGLDVEDVKFVINYDYPNSSEDYVHRIGRTARSTNKGTAYTFFTPGNLKQARELIKVLEEANQAINPKLMQLVDHRGGGGGGGGRSRYRTTSSANNPNLMYQDECDRRLRGVKDGGRRDSASYRDRSETDRAGYANGSGYGSPNSAFGAQAGQYTYGQGTYGAAAYGTSSYTAQEYGAGTYGASSTTSTGRSSQSSSQQFSGIGRSGQQPQPLMSQQFAQPPGATNMIGYMGQTAYQYPPPPPPPPPSRK',\n",
       " 'ENST00000355630': 'MDFSSVVCLPPSVIAVNGLDGGGAGENDDEPVLVSLSAAPSPQSEAVANELQELSLQPELTLGLHPGRNPNLPPLSERKNVLQLKLQQRRTREELVSQGIMPPLKSPAAFHEQRRSLERARTEDYLKRKIRSRPERSELVRMHILEETSAEPSLQAKQLKLKRARLADDLNEKIAQRPGPMELVEKNILPVESSLKEAIIVGQVNYPKVADSSSFDEDSSDALSPEQPASHESQGSVPSPLEARVSEPLLSATSASPTQVVSQLPMGRDSREMLFLAEQPPLPPPPLLPPSLTNGTTIPTAKSTPTLIKQSQPKSASEKSQRSKKAKELKPKVKKLKYHQYIPPDQKQDRGAPPMDSSYAKILQQQQLFLQLQILNQQQQQHHNYQAILPAPPKSAGEALGSSGTPPVRSLSTTNSSSSSGAPGPCGLARQNSTSLTGKPGALPANLDDMKVAELKQELKLRSLPVSGTKTELIERLRAYQDQISPVPGAPKAPAATSILHKAGEVVVAFPAARLSTGPALVAAGLAPAEVVVATVASSGVVKFGSTGSTPPVSPTPSERSLLSTGDENSTPGDTFGEMVTSPLTQLTLQASPLQILVKEEGPRAGSCCLSPGGRAELEGRDKDQMLQEKDKQIEALTRMLRQKQQLVERLKLQLEQEKRAQQPAPAPAPLGTPVKQENSFSSCQLSQQPLGPAHPFNPSLAAPATNHIDPCAVAPGPPSVVVKQEALQPEPEPVPAPQLLLGPQGPSLIKGVAPPTLITDSTGTHLVLTVTNKNADSPGLSSGSPQQPSSQPGSPAPAPSAQMDLEHPLQPLFGTPTSLLKKEPPGYEEAMSQQPKQQENGSSSQQMDDLFDILIQSGEISADFKEPPSLPGKEKPSPKTVCGSPLAAQPSPSAELPQAAPPPPGSPSLPGRLEDFLESSTGLPLLTSGHDGPEPLSLIDDLHSQMLSSTAILDHPPSPMDTSELHFVPEPSSTMGLDLADGHLDSMDWLELSSGGPVLSLAPLSTTAPSLFSTDFLDGHDLQLHWDSCL',\n",
       " 'ENST00000400299': 'MSLLLPPLALLLLLAALVAPATAATAYRPDWNRLSGLTRARVETCGGUQLNRLKEVKAFVTQDIPFYHNLVMKHLPGADPELVLLGRRYEELERIPLSEMTREEINALVQELGFYRKAAPDAQVPPEYVWAPAKPPEETSDHADL'}"
      ]
     },
     "execution_count": 178,
     "metadata": {},
     "output_type": "execute_result"
    }
   ],
   "source": [
    "#一些aa对应不到序列的\n",
    "notin_dict"
   ]
  },
  {
   "cell_type": "code",
   "execution_count": 20,
   "metadata": {},
   "outputs": [],
   "source": [
    "pickle.dump(id2all, open(f\"{path_mRNA}/mRNA_id2all.pkl\", 'wb'))"
   ]
  },
  {
   "cell_type": "code",
   "execution_count": null,
   "metadata": {},
   "outputs": [],
   "source": []
  }
 ],
 "metadata": {
  "kernelspec": {
   "display_name": "base",
   "language": "python",
   "name": "python3"
  },
  "language_info": {
   "codemirror_mode": {
    "name": "ipython",
    "version": 3
   },
   "file_extension": ".py",
   "mimetype": "text/x-python",
   "name": "python",
   "nbconvert_exporter": "python",
   "pygments_lexer": "ipython3",
   "version": "3.9.16"
  }
 },
 "nbformat": 4,
 "nbformat_minor": 2
}
